{
 "cells": [
  {
   "cell_type": "markdown",
   "metadata": {},
   "source": [
    "<!DOCTYPE html>\n",
    "<html>\n",
    "<h3>Описание проекта<a class=\"tocSkip\"></h3>\n",
    "    \n",
    "Для интернет-магазина компьютерных игр \"Стримчик\", который работает по всему миру, нужно выявить закономерности определяющие успешность игры, для этих целей мне доступны данные из открытых источников о продажах игр, оценки пользователей и экспертов, жанры и платформы (например, Xbox или PlayStation). \n",
    "    \n",
    "    \n",
    "Нужно спланировать компанию на следующий год по данным прошлого года таким образом, чтобы сделать ставку на потенциально популярный продукт и спланировать рекламные кампании.\n",
    "\n",
    "\n",
    "<i>В наборе данных попадается аббревиатура ESRB (Entertainment Software Rating Board) — это ассоциация, определяющая возрастной рейтинг компьютерных игр. ESRB оценивает игровой контент и присваивает ему подходящую возрастную категорию, например, «Для взрослых», «Для детей младшего возраста» или «Для подростков».</i>"
   ]
  },
  {
   "cell_type": "markdown",
   "metadata": {},
   "source": [
    "<h3>План работы<a class=\"tocSkip\"></h3>\n",
    "\n",
    "* **Шаг 1. Откроем файл с данными и изучим общую информацию**\n",
    "\n",
    "* **Шаг 2. Подготовим данные**\n",
    "\n",
    "* **Шаг 3. Проведем исследовательский анализ данных**\n",
    "\n",
    "* **Шаг 4. Составим портрет пользователя каждого региона**\n",
    "\n",
    "* **Шаг 5. Проверим гипотезы**\n",
    " * Средние пользовательские рейтинги платформ Xbox One и PC одинаковые;\n",
    " * Средние пользовательские рейтинги жанров Action (англ. «действие», экшен-игры) и Sports (англ. «спортивные соревнования») разные.\n",
    "\n",
    "* **Шаг 6. Общий вывод**"
   ]
  },
  {
   "cell_type": "markdown",
   "metadata": {},
   "source": [
    "**Описание данных**\n",
    "\n",
    "- Name — название игры\n",
    "\n",
    "- Platform — платформа\n",
    "\n",
    "- Year_of_Release — год выпуска\n",
    "\n",
    "- Genre — жанр игры\n",
    "\n",
    "- NA_sales — продажи в Северной Америке (миллионы проданных копий)\n",
    "\n",
    "- EU_sales — продажи в Европе (миллионы проданных копий)\n",
    "\n",
    "- JP_sales — продажи в Японии (миллионы проданных копий)\n",
    "\n",
    "- Other_sales — продажи в других странах (миллионы проданных копий)\n",
    "\n",
    "- Critic_Score — оценка критиков (максимум 100)\n",
    "\n",
    "- User_Score — оценка пользователей (максимум 10)\n",
    "\n",
    "- Rating — рейтинг от организации ESRB (англ. Entertainment Software Rating Board). Эта ассоциация определяет рейтинг компьютерных игр и присваивает им подходящую возрастную категорию."
   ]
  },
  {
   "cell_type": "code",
   "execution_count": 1,
   "metadata": {},
   "outputs": [],
   "source": [
    "#импорт необходимых библиотек\n",
    "import pandas as pd\n",
    "import matplotlib.pyplot as plt\n",
    "import numpy as np\n",
    "import seaborn as sns\n",
    "import datetime\n",
    "from scipy import stats as st"
   ]
  },
  {
   "cell_type": "markdown",
   "metadata": {},
   "source": [
    "**Шаг 1 Откроем файл с данными и изучим общую информацию**"
   ]
  },
  {
   "cell_type": "code",
   "execution_count": 2,
   "metadata": {
    "scrolled": true
   },
   "outputs": [
    {
     "name": "stdout",
     "output_type": "stream",
     "text": [
      "<class 'pandas.core.frame.DataFrame'>\n",
      "RangeIndex: 16715 entries, 0 to 16714\n",
      "Data columns (total 11 columns):\n",
      " #   Column           Non-Null Count  Dtype  \n",
      "---  ------           --------------  -----  \n",
      " 0   Name             16713 non-null  object \n",
      " 1   Platform         16715 non-null  object \n",
      " 2   Year_of_Release  16446 non-null  float64\n",
      " 3   Genre            16713 non-null  object \n",
      " 4   NA_sales         16715 non-null  float64\n",
      " 5   EU_sales         16715 non-null  float64\n",
      " 6   JP_sales         16715 non-null  float64\n",
      " 7   Other_sales      16715 non-null  float64\n",
      " 8   Critic_Score     8137 non-null   float64\n",
      " 9   User_Score       10014 non-null  object \n",
      " 10  Rating           9949 non-null   object \n",
      "dtypes: float64(6), object(5)\n",
      "memory usage: 1.4+ MB\n"
     ]
    },
    {
     "data": {
      "text/plain": [
       "None"
      ]
     },
     "metadata": {},
     "output_type": "display_data"
    },
    {
     "data": {
      "text/html": [
       "<div>\n",
       "<style scoped>\n",
       "    .dataframe tbody tr th:only-of-type {\n",
       "        vertical-align: middle;\n",
       "    }\n",
       "\n",
       "    .dataframe tbody tr th {\n",
       "        vertical-align: top;\n",
       "    }\n",
       "\n",
       "    .dataframe thead th {\n",
       "        text-align: right;\n",
       "    }\n",
       "</style>\n",
       "<table border=\"1\" class=\"dataframe\">\n",
       "  <thead>\n",
       "    <tr style=\"text-align: right;\">\n",
       "      <th></th>\n",
       "      <th>Name</th>\n",
       "      <th>Platform</th>\n",
       "      <th>Year_of_Release</th>\n",
       "      <th>Genre</th>\n",
       "      <th>NA_sales</th>\n",
       "      <th>EU_sales</th>\n",
       "      <th>JP_sales</th>\n",
       "      <th>Other_sales</th>\n",
       "      <th>Critic_Score</th>\n",
       "      <th>User_Score</th>\n",
       "      <th>Rating</th>\n",
       "    </tr>\n",
       "  </thead>\n",
       "  <tbody>\n",
       "    <tr>\n",
       "      <th>0</th>\n",
       "      <td>Wii Sports</td>\n",
       "      <td>Wii</td>\n",
       "      <td>2006.0</td>\n",
       "      <td>Sports</td>\n",
       "      <td>41.36</td>\n",
       "      <td>28.96</td>\n",
       "      <td>3.77</td>\n",
       "      <td>8.45</td>\n",
       "      <td>76.0</td>\n",
       "      <td>8</td>\n",
       "      <td>E</td>\n",
       "    </tr>\n",
       "    <tr>\n",
       "      <th>1</th>\n",
       "      <td>Super Mario Bros.</td>\n",
       "      <td>NES</td>\n",
       "      <td>1985.0</td>\n",
       "      <td>Platform</td>\n",
       "      <td>29.08</td>\n",
       "      <td>3.58</td>\n",
       "      <td>6.81</td>\n",
       "      <td>0.77</td>\n",
       "      <td>NaN</td>\n",
       "      <td>NaN</td>\n",
       "      <td>NaN</td>\n",
       "    </tr>\n",
       "    <tr>\n",
       "      <th>2</th>\n",
       "      <td>Mario Kart Wii</td>\n",
       "      <td>Wii</td>\n",
       "      <td>2008.0</td>\n",
       "      <td>Racing</td>\n",
       "      <td>15.68</td>\n",
       "      <td>12.76</td>\n",
       "      <td>3.79</td>\n",
       "      <td>3.29</td>\n",
       "      <td>82.0</td>\n",
       "      <td>8.3</td>\n",
       "      <td>E</td>\n",
       "    </tr>\n",
       "  </tbody>\n",
       "</table>\n",
       "</div>"
      ],
      "text/plain": [
       "                Name Platform  Year_of_Release     Genre  NA_sales  EU_sales  \\\n",
       "0         Wii Sports      Wii           2006.0    Sports     41.36     28.96   \n",
       "1  Super Mario Bros.      NES           1985.0  Platform     29.08      3.58   \n",
       "2     Mario Kart Wii      Wii           2008.0    Racing     15.68     12.76   \n",
       "\n",
       "   JP_sales  Other_sales  Critic_Score User_Score Rating  \n",
       "0      3.77         8.45          76.0          8      E  \n",
       "1      6.81         0.77           NaN        NaN    NaN  \n",
       "2      3.79         3.29          82.0        8.3      E  "
      ]
     },
     "metadata": {},
     "output_type": "display_data"
    }
   ],
   "source": [
    "data = pd.read_csv('/datasets/games.csv')\n",
    "display(data.info())\n",
    "display(data.head(3))"
   ]
  },
  {
   "cell_type": "markdown",
   "metadata": {},
   "source": [
    "**Шаг 2 Подготовим данные**"
   ]
  },
  {
   "cell_type": "markdown",
   "metadata": {},
   "source": [
    "* Заменим названия столбцов (приведем к нижнему регистру)\n",
    "\n",
    "Решила сделать это лямбда функцией, для того, чтобы не нагружать код"
   ]
  },
  {
   "cell_type": "code",
   "execution_count": 3,
   "metadata": {},
   "outputs": [
    {
     "data": {
      "text/html": [
       "<div>\n",
       "<style scoped>\n",
       "    .dataframe tbody tr th:only-of-type {\n",
       "        vertical-align: middle;\n",
       "    }\n",
       "\n",
       "    .dataframe tbody tr th {\n",
       "        vertical-align: top;\n",
       "    }\n",
       "\n",
       "    .dataframe thead th {\n",
       "        text-align: right;\n",
       "    }\n",
       "</style>\n",
       "<table border=\"1\" class=\"dataframe\">\n",
       "  <thead>\n",
       "    <tr style=\"text-align: right;\">\n",
       "      <th></th>\n",
       "      <th>name</th>\n",
       "      <th>platform</th>\n",
       "      <th>year_of_release</th>\n",
       "      <th>genre</th>\n",
       "      <th>na_sales</th>\n",
       "      <th>eu_sales</th>\n",
       "      <th>jp_sales</th>\n",
       "      <th>other_sales</th>\n",
       "      <th>critic_score</th>\n",
       "      <th>user_score</th>\n",
       "      <th>rating</th>\n",
       "    </tr>\n",
       "  </thead>\n",
       "  <tbody>\n",
       "    <tr>\n",
       "      <th>0</th>\n",
       "      <td>Wii Sports</td>\n",
       "      <td>Wii</td>\n",
       "      <td>2006.0</td>\n",
       "      <td>Sports</td>\n",
       "      <td>41.36</td>\n",
       "      <td>28.96</td>\n",
       "      <td>3.77</td>\n",
       "      <td>8.45</td>\n",
       "      <td>76.0</td>\n",
       "      <td>8</td>\n",
       "      <td>E</td>\n",
       "    </tr>\n",
       "  </tbody>\n",
       "</table>\n",
       "</div>"
      ],
      "text/plain": [
       "         name platform  year_of_release   genre  na_sales  eu_sales  jp_sales  \\\n",
       "0  Wii Sports      Wii           2006.0  Sports     41.36     28.96      3.77   \n",
       "\n",
       "   other_sales  critic_score user_score rating  \n",
       "0         8.45          76.0          8      E  "
      ]
     },
     "metadata": {},
     "output_type": "display_data"
    }
   ],
   "source": [
    "data.rename(columns=lambda x: x.lower(), inplace=True)\n",
    "display(data.head(1))"
   ]
  },
  {
   "cell_type": "markdown",
   "metadata": {},
   "source": [
    "Далее преобразуем типы данных, думаю стоит заменить тип данных на int в столбцах: year_of_release, на float: user_score\t"
   ]
  },
  {
   "cell_type": "code",
   "execution_count": 4,
   "metadata": {},
   "outputs": [
    {
     "data": {
      "text/plain": [
       "array(['8', nan, '8.3', '8.5', '6.6', '8.4', '8.6', '7.7', '6.3', '7.4',\n",
       "       '8.2', '9', '7.9', '8.1', '8.7', '7.1', '3.4', '5.3', '4.8', '3.2',\n",
       "       '8.9', '6.4', '7.8', '7.5', '2.6', '7.2', '9.2', '7', '7.3', '4.3',\n",
       "       '7.6', '5.7', '5', '9.1', '6.5', 'tbd', '8.8', '6.9', '9.4', '6.8',\n",
       "       '6.1', '6.7', '5.4', '4', '4.9', '4.5', '9.3', '6.2', '4.2', '6',\n",
       "       '3.7', '4.1', '5.8', '5.6', '5.5', '4.4', '4.6', '5.9', '3.9',\n",
       "       '3.1', '2.9', '5.2', '3.3', '4.7', '5.1', '3.5', '2.5', '1.9', '3',\n",
       "       '2.7', '2.2', '2', '9.5', '2.1', '3.6', '2.8', '1.8', '3.8', '0',\n",
       "       '1.6', '9.6', '2.4', '1.7', '1.1', '0.3', '1.5', '0.7', '1.2',\n",
       "       '2.3', '0.5', '1.3', '0.2', '0.6', '1.4', '0.9', '1', '9.7'],\n",
       "      dtype=object)"
      ]
     },
     "metadata": {},
     "output_type": "display_data"
    },
    {
     "data": {
      "text/plain": [
       "tbd    2424\n",
       "7.8     324\n",
       "8       290\n",
       "8.2     282\n",
       "8.3     254\n",
       "       ... \n",
       "1.1       2\n",
       "1         2\n",
       "1.9       2\n",
       "9.7       1\n",
       "0         1\n",
       "Name: user_score, Length: 96, dtype: int64"
      ]
     },
     "metadata": {},
     "output_type": "display_data"
    }
   ],
   "source": [
    "display(data['user_score'].unique())\n",
    "display(data['user_score'].value_counts())"
   ]
  },
  {
   "cell_type": "markdown",
   "metadata": {},
   "source": [
    "'tbd' - аббревиатура, означающая, что оценка будет установлена позднее (предположу, что пользователb еще не закнчил проходить игру), а форма сбора данных предполагала ручной ввод, поэтому мы получили и такие данные\n",
    "Так как оценка 0 встречается всего 1 раз, а 'tbd' -2424, думаю есть смысл заменить 'tbd' на 0. Далее буду иметь это ввиду\n"
   ]
  },
  {
   "cell_type": "code",
   "execution_count": 5,
   "metadata": {},
   "outputs": [
    {
     "data": {
      "text/plain": [
       "array([8. , nan, 8.3, 8.5, 6.6, 8.4, 8.6, 7.7, 6.3, 7.4, 8.2, 9. , 7.9,\n",
       "       8.1, 8.7, 7.1, 3.4, 5.3, 4.8, 3.2, 8.9, 6.4, 7.8, 7.5, 2.6, 7.2,\n",
       "       9.2, 7. , 7.3, 4.3, 7.6, 5.7, 5. , 9.1, 6.5, 8.8, 6.9, 9.4, 6.8,\n",
       "       6.1, 6.7, 5.4, 4. , 4.9, 4.5, 9.3, 6.2, 4.2, 6. , 3.7, 4.1, 5.8,\n",
       "       5.6, 5.5, 4.4, 4.6, 5.9, 3.9, 3.1, 2.9, 5.2, 3.3, 4.7, 5.1, 3.5,\n",
       "       2.5, 1.9, 3. , 2.7, 2.2, 2. , 9.5, 2.1, 3.6, 2.8, 1.8, 3.8, 0. ,\n",
       "       1.6, 9.6, 2.4, 1.7, 1.1, 0.3, 1.5, 0.7, 1.2, 2.3, 0.5, 1.3, 0.2,\n",
       "       0.6, 1.4, 0.9, 1. , 9.7])"
      ]
     },
     "metadata": {},
     "output_type": "display_data"
    },
    {
     "data": {
      "text/plain": [
       "name                  2\n",
       "platform              0\n",
       "year_of_release     269\n",
       "genre                 2\n",
       "na_sales              0\n",
       "eu_sales              0\n",
       "jp_sales              0\n",
       "other_sales           0\n",
       "critic_score       8578\n",
       "user_score         9125\n",
       "rating             6766\n",
       "dtype: int64"
      ]
     },
     "execution_count": 5,
     "metadata": {},
     "output_type": "execute_result"
    }
   ],
   "source": [
    "data.replace('tbd', np.nan, inplace=True)\n",
    "data['user_score'] = data['user_score'].astype('float')\n",
    "\n",
    "display(data['user_score'].unique())\n",
    "data.isna().sum()"
   ]
  },
  {
   "cell_type": "code",
   "execution_count": 6,
   "metadata": {},
   "outputs": [
    {
     "name": "stdout",
     "output_type": "stream",
     "text": [
      "Процент отброшенных значений =  1.0 %\n"
     ]
    }
   ],
   "source": [
    "print(\n",
    "    'Процент отброшенных значений = ',\n",
    "    round(len(data['year_of_release'].isna())\n",
    "        / len(data['year_of_release']),2),'%')\n",
    "data.dropna(subset=['year_of_release'],inplace=True)\n",
    "data['year_of_release'] = data['year_of_release'].astype('int')"
   ]
  },
  {
   "cell_type": "code",
   "execution_count": 7,
   "metadata": {},
   "outputs": [],
   "source": [
    "temp = '-01-01'\n",
    "data['year_of_release'] = data['year_of_release'].apply(lambda x: str(x) + temp)\n",
    "data['year_of_release'] = pd.to_datetime(data['year_of_release'], format='%Y-%m-%d').dt.year"
   ]
  },
  {
   "cell_type": "code",
   "execution_count": 8,
   "metadata": {},
   "outputs": [
    {
     "name": "stdout",
     "output_type": "stream",
     "text": [
      "<class 'pandas.core.frame.DataFrame'>\n",
      "Int64Index: 16444 entries, 0 to 16714\n",
      "Data columns (total 11 columns):\n",
      " #   Column           Non-Null Count  Dtype  \n",
      "---  ------           --------------  -----  \n",
      " 0   name             16444 non-null  object \n",
      " 1   platform         16444 non-null  object \n",
      " 2   year_of_release  16444 non-null  int64  \n",
      " 3   genre            16444 non-null  object \n",
      " 4   na_sales         16444 non-null  float64\n",
      " 5   eu_sales         16444 non-null  float64\n",
      " 6   jp_sales         16444 non-null  float64\n",
      " 7   other_sales      16444 non-null  float64\n",
      " 8   critic_score     7983 non-null   float64\n",
      " 9   user_score       7463 non-null   float64\n",
      " 10  rating           9768 non-null   object \n",
      "dtypes: float64(6), int64(1), object(4)\n",
      "memory usage: 1.5+ MB\n"
     ]
    },
    {
     "data": {
      "text/plain": [
       "name                  0\n",
       "platform              0\n",
       "year_of_release       0\n",
       "genre                 0\n",
       "na_sales              0\n",
       "eu_sales              0\n",
       "jp_sales              0\n",
       "other_sales           0\n",
       "critic_score       8461\n",
       "user_score         8981\n",
       "rating             6676\n",
       "dtype: int64"
      ]
     },
     "execution_count": 8,
     "metadata": {},
     "output_type": "execute_result"
    }
   ],
   "source": [
    "data.dropna(subset=['name'],inplace=True)\n",
    "data.info()\n",
    "data.isna().sum()"
   ]
  },
  {
   "cell_type": "code",
   "execution_count": 9,
   "metadata": {},
   "outputs": [
    {
     "data": {
      "text/html": [
       "<div>\n",
       "<style scoped>\n",
       "    .dataframe tbody tr th:only-of-type {\n",
       "        vertical-align: middle;\n",
       "    }\n",
       "\n",
       "    .dataframe tbody tr th {\n",
       "        vertical-align: top;\n",
       "    }\n",
       "\n",
       "    .dataframe thead th {\n",
       "        text-align: right;\n",
       "    }\n",
       "</style>\n",
       "<table border=\"1\" class=\"dataframe\">\n",
       "  <thead>\n",
       "    <tr style=\"text-align: right;\">\n",
       "      <th></th>\n",
       "      <th>name</th>\n",
       "      <th>platform</th>\n",
       "      <th>year_of_release</th>\n",
       "      <th>genre</th>\n",
       "      <th>na_sales</th>\n",
       "      <th>eu_sales</th>\n",
       "      <th>jp_sales</th>\n",
       "      <th>other_sales</th>\n",
       "      <th>critic_score</th>\n",
       "      <th>user_score</th>\n",
       "      <th>rating</th>\n",
       "      <th>total</th>\n",
       "    </tr>\n",
       "  </thead>\n",
       "  <tbody>\n",
       "    <tr>\n",
       "      <th>0</th>\n",
       "      <td>Wii Sports</td>\n",
       "      <td>Wii</td>\n",
       "      <td>2006</td>\n",
       "      <td>Sports</td>\n",
       "      <td>41.36</td>\n",
       "      <td>28.96</td>\n",
       "      <td>3.77</td>\n",
       "      <td>8.45</td>\n",
       "      <td>76.0</td>\n",
       "      <td>8.0</td>\n",
       "      <td>E</td>\n",
       "      <td>82.54</td>\n",
       "    </tr>\n",
       "    <tr>\n",
       "      <th>1</th>\n",
       "      <td>Super Mario Bros.</td>\n",
       "      <td>NES</td>\n",
       "      <td>1985</td>\n",
       "      <td>Platform</td>\n",
       "      <td>29.08</td>\n",
       "      <td>3.58</td>\n",
       "      <td>6.81</td>\n",
       "      <td>0.77</td>\n",
       "      <td>NaN</td>\n",
       "      <td>NaN</td>\n",
       "      <td>NaN</td>\n",
       "      <td>40.24</td>\n",
       "    </tr>\n",
       "  </tbody>\n",
       "</table>\n",
       "</div>"
      ],
      "text/plain": [
       "                name platform  year_of_release     genre  na_sales  eu_sales  \\\n",
       "0         Wii Sports      Wii             2006    Sports     41.36     28.96   \n",
       "1  Super Mario Bros.      NES             1985  Platform     29.08      3.58   \n",
       "\n",
       "   jp_sales  other_sales  critic_score  user_score rating  total  \n",
       "0      3.77         8.45          76.0         8.0      E  82.54  \n",
       "1      6.81         0.77           NaN         NaN    NaN  40.24  "
      ]
     },
     "metadata": {},
     "output_type": "display_data"
    }
   ],
   "source": [
    "data['total'] = data[['na_sales','eu_sales','jp_sales', 'other_sales']].sum(axis = 1)\n",
    "display(data.head(2))"
   ]
  },
  {
   "cell_type": "code",
   "execution_count": 10,
   "metadata": {},
   "outputs": [
    {
     "data": {
      "text/plain": [
       "0"
      ]
     },
     "metadata": {},
     "output_type": "display_data"
    }
   ],
   "source": [
    "display(len(data)- len(data.drop_duplicates()))\n",
    "#data.drop_duplicates().reset_index(drop=True)\n",
    "#явных дублей 0, строка выше оказалась не нужна"
   ]
  },
  {
   "cell_type": "markdown",
   "metadata": {},
   "source": [
    "**Вывод**\n",
    " * Заменила названия столбцов (привела к нижнему регистру);\n",
    " * Преобразовала данные в нужные типы.\n",
    " \n",
    " заменила тип данных на int в столбцах: year_of_release, на float: user_score(год не может быть дробным числом, а оценка должна быть численным значением)\n",
    " \n",
    " * Обработайтала пропуски в столбцах name, year_of_release и genre\n",
    " \n",
    " В столбце year_of_release были пропущенные значения, что обесценивает такие данные, ведь исследовть их дальше без понимания к какому периоду привязаны оценка, выручки и рейтинг не имеет ценности в конкретном исследовании, также как и без названия игры невозможно адекватно исследовать дальше. \n",
    " \n",
    " Пропуском было около 1%,это не нанесет ущерб полнете данных, поэтому я их удалила\n",
    " Заполнять пропуски медианным значением в столбцах critic_score и user_score я не стала, т к объем значительный и можно исказить данные таким заполнением\n",
    " \n",
    " \n",
    " В столбце rating заполнить пропуски невозможно\n",
    "\n",
    " * Посчитала суммарные продажи во всех регионах и записала их в отдельный столбец total.\n"
   ]
  },
  {
   "cell_type": "markdown",
   "metadata": {},
   "source": [
    "**Шаг 3 Проведем исследовательский анализ данных**"
   ]
  },
  {
   "cell_type": "code",
   "execution_count": 11,
   "metadata": {},
   "outputs": [
    {
     "name": "stdout",
     "output_type": "stream",
     "text": [
      "минимальное количество выпускаемых в году игр: 9\n",
      "максимальное количество выпускаемых в году игр: 1427\n"
     ]
    },
    {
     "data": {
      "text/plain": [
       "year_of_release\n",
       "1980       9\n",
       "1981      46\n",
       "1982      36\n",
       "1983      17\n",
       "1984      14\n",
       "1985      14\n",
       "1986      21\n",
       "1987      16\n",
       "1988      15\n",
       "1989      17\n",
       "1990      16\n",
       "1991      41\n",
       "1992      43\n",
       "1993      60\n",
       "1994     121\n",
       "1995     219\n",
       "1996     263\n",
       "1997     289\n",
       "1998     379\n",
       "1999     338\n",
       "2000     350\n",
       "2001     482\n",
       "2002     829\n",
       "2003     775\n",
       "2004     762\n",
       "2005     939\n",
       "2006    1006\n",
       "2007    1197\n",
       "2008    1427\n",
       "2009    1426\n",
       "2010    1255\n",
       "2011    1136\n",
       "2012     653\n",
       "2013     544\n",
       "2014     581\n",
       "2015     606\n",
       "2016     502\n",
       "Name: name, dtype: int64"
      ]
     },
     "metadata": {},
     "output_type": "display_data"
    }
   ],
   "source": [
    "tmp = data.groupby('year_of_release')['name'].count()\n",
    "print(f'минимальное количество выпускаемых в году игр: {tmp.min()}')\n",
    "print(f'максимальное количество выпускаемых в году игр: {tmp.max()}')\n",
    "display(tmp)"
   ]
  },
  {
   "cell_type": "markdown",
   "metadata": {},
   "source": [
    "За разные периоды выходило неоднородное количество игр, рост с 2002 года и падение после 2011"
   ]
  },
  {
   "cell_type": "code",
   "execution_count": 12,
   "metadata": {
    "scrolled": false
   },
   "outputs": [
    {
     "data": {
      "image/png": "[encoded data removed]",
      "text/plain": [
       "<Figure size 864x288 with 1 Axes>"
      ]
     },
     "metadata": {
      "needs_background": "light"
     },
     "output_type": "display_data"
    }
   ],
   "source": [
    "data.pivot_table(index='year_of_release', values='name', aggfunc = 'count').plot(marker='o',\n",
    "                                                                                 grid=True, figsize=(12, 4), \n",
    "                                                                                legend=False, color=sns.color_palette('pastel'))\n",
    "plt.title('Количество выпускаемых игр')\n",
    "plt.xlabel('Год')\n",
    "plt.ylabel('Количество')\n",
    "plt.show();"
   ]
  },
  {
   "cell_type": "code",
   "execution_count": 13,
   "metadata": {},
   "outputs": [],
   "source": [
    "data_new = data.query('year_of_release >=2005')"
   ]
  },
  {
   "cell_type": "markdown",
   "metadata": {},
   "source": [
    "Отсортируем самые популярные по суммарным продажам платформы. Данные будем брать начиная с 2005 года"
   ]
  },
  {
   "cell_type": "code",
   "execution_count": 14,
   "metadata": {
    "scrolled": true
   },
   "outputs": [
    {
     "data": {
      "text/html": [
       "<div>\n",
       "<style scoped>\n",
       "    .dataframe tbody tr th:only-of-type {\n",
       "        vertical-align: middle;\n",
       "    }\n",
       "\n",
       "    .dataframe tbody tr th {\n",
       "        vertical-align: top;\n",
       "    }\n",
       "\n",
       "    .dataframe thead th {\n",
       "        text-align: right;\n",
       "    }\n",
       "</style>\n",
       "<table border=\"1\" class=\"dataframe\">\n",
       "  <thead>\n",
       "    <tr style=\"text-align: right;\">\n",
       "      <th></th>\n",
       "      <th>total</th>\n",
       "    </tr>\n",
       "    <tr>\n",
       "      <th>platform</th>\n",
       "      <th></th>\n",
       "    </tr>\n",
       "  </thead>\n",
       "  <tbody>\n",
       "    <tr>\n",
       "      <th>X360</th>\n",
       "      <td>961.24</td>\n",
       "    </tr>\n",
       "    <tr>\n",
       "      <th>PS3</th>\n",
       "      <td>931.34</td>\n",
       "    </tr>\n",
       "    <tr>\n",
       "      <th>Wii</th>\n",
       "      <td>891.18</td>\n",
       "    </tr>\n",
       "    <tr>\n",
       "      <th>DS</th>\n",
       "      <td>785.49</td>\n",
       "    </tr>\n",
       "    <tr>\n",
       "      <th>PS2</th>\n",
       "      <td>426.46</td>\n",
       "    </tr>\n",
       "    <tr>\n",
       "      <th>PS4</th>\n",
       "      <td>314.14</td>\n",
       "    </tr>\n",
       "  </tbody>\n",
       "</table>\n",
       "</div>"
      ],
      "text/plain": [
       "           total\n",
       "platform        \n",
       "X360      961.24\n",
       "PS3       931.34\n",
       "Wii       891.18\n",
       "DS        785.49\n",
       "PS2       426.46\n",
       "PS4       314.14"
      ]
     },
     "metadata": {},
     "output_type": "display_data"
    }
   ],
   "source": [
    "platform_tmp = data_new.pivot_table(index='platform', values='total', aggfunc = 'sum').sort_values(by='total', \n",
    "                                                                                               ascending=False).head(6)\n",
    "display(platform_tmp)"
   ]
  },
  {
   "cell_type": "code",
   "execution_count": 15,
   "metadata": {},
   "outputs": [
    {
     "data": {
      "image/png": "[encoded data removed]",
      "text/plain": [
       "<Figure size 504x288 with 1 Axes>"
      ]
     },
     "metadata": {
      "needs_background": "light"
     },
     "output_type": "display_data"
    }
   ],
   "source": [
    "platform_tmp.sort_values(by='total').plot(kind='barh',\n",
    "                                                legend=True,\n",
    "                                                grid=True,\n",
    "                                                color=sns.color_palette('pastel'),\n",
    "                                                ec='black', figsize=(7, 4))\n",
    "\n",
    "plt.title('Самые популярные платформы')\n",
    "plt.xlabel('Сумма продаж')\n",
    "plt.ylabel('Платформа')\n",
    "plt.show();"
   ]
  },
  {
   "cell_type": "code",
   "execution_count": 16,
   "metadata": {
    "scrolled": true
   },
   "outputs": [
    {
     "data": {
      "text/html": [
       "<div>\n",
       "<style scoped>\n",
       "    .dataframe tbody tr th:only-of-type {\n",
       "        vertical-align: middle;\n",
       "    }\n",
       "\n",
       "    .dataframe tbody tr th {\n",
       "        vertical-align: top;\n",
       "    }\n",
       "\n",
       "    .dataframe thead th {\n",
       "        text-align: right;\n",
       "    }\n",
       "</style>\n",
       "<table border=\"1\" class=\"dataframe\">\n",
       "  <thead>\n",
       "    <tr style=\"text-align: right;\">\n",
       "      <th></th>\n",
       "      <th></th>\n",
       "      <th>total</th>\n",
       "    </tr>\n",
       "    <tr>\n",
       "      <th>platform</th>\n",
       "      <th>year_of_release</th>\n",
       "      <th></th>\n",
       "    </tr>\n",
       "  </thead>\n",
       "  <tbody>\n",
       "    <tr>\n",
       "      <th>DS</th>\n",
       "      <th>2005</th>\n",
       "      <td>130.14</td>\n",
       "    </tr>\n",
       "    <tr>\n",
       "      <th>X360</th>\n",
       "      <th>2005</th>\n",
       "      <td>8.25</td>\n",
       "    </tr>\n",
       "    <tr>\n",
       "      <th>PS2</th>\n",
       "      <th>2005</th>\n",
       "      <td>160.66</td>\n",
       "    </tr>\n",
       "    <tr>\n",
       "      <th>Wii</th>\n",
       "      <th>2006</th>\n",
       "      <td>137.15</td>\n",
       "    </tr>\n",
       "    <tr>\n",
       "      <th>X360</th>\n",
       "      <th>2006</th>\n",
       "      <td>51.62</td>\n",
       "    </tr>\n",
       "    <tr>\n",
       "      <th>PS2</th>\n",
       "      <th>2006</th>\n",
       "      <td>103.42</td>\n",
       "    </tr>\n",
       "    <tr>\n",
       "      <th>PS3</th>\n",
       "      <th>2006</th>\n",
       "      <td>20.96</td>\n",
       "    </tr>\n",
       "    <tr>\n",
       "      <th>DS</th>\n",
       "      <th>2006</th>\n",
       "      <td>119.81</td>\n",
       "    </tr>\n",
       "    <tr>\n",
       "      <th>X360</th>\n",
       "      <th>2007</th>\n",
       "      <td>95.41</td>\n",
       "    </tr>\n",
       "    <tr>\n",
       "      <th>DS</th>\n",
       "      <th>2007</th>\n",
       "      <td>146.94</td>\n",
       "    </tr>\n",
       "    <tr>\n",
       "      <th>PS2</th>\n",
       "      <th>2007</th>\n",
       "      <td>75.99</td>\n",
       "    </tr>\n",
       "    <tr>\n",
       "      <th>PS3</th>\n",
       "      <th>2007</th>\n",
       "      <td>73.19</td>\n",
       "    </tr>\n",
       "    <tr>\n",
       "      <th>Wii</th>\n",
       "      <th>2007</th>\n",
       "      <td>152.77</td>\n",
       "    </tr>\n",
       "    <tr>\n",
       "      <th>DS</th>\n",
       "      <th>2008</th>\n",
       "      <td>145.31</td>\n",
       "    </tr>\n",
       "    <tr>\n",
       "      <th>PS3</th>\n",
       "      <th>2008</th>\n",
       "      <td>118.52</td>\n",
       "    </tr>\n",
       "    <tr>\n",
       "      <th>Wii</th>\n",
       "      <th>2008</th>\n",
       "      <td>171.32</td>\n",
       "    </tr>\n",
       "    <tr>\n",
       "      <th>PS2</th>\n",
       "      <th>2008</th>\n",
       "      <td>53.90</td>\n",
       "    </tr>\n",
       "    <tr>\n",
       "      <th>X360</th>\n",
       "      <th>2008</th>\n",
       "      <td>135.26</td>\n",
       "    </tr>\n",
       "    <tr>\n",
       "      <th>Wii</th>\n",
       "      <th>2009</th>\n",
       "      <td>206.97</td>\n",
       "    </tr>\n",
       "    <tr>\n",
       "      <th>PS2</th>\n",
       "      <th>2009</th>\n",
       "      <td>26.40</td>\n",
       "    </tr>\n",
       "    <tr>\n",
       "      <th>PS3</th>\n",
       "      <th>2009</th>\n",
       "      <td>130.93</td>\n",
       "    </tr>\n",
       "    <tr>\n",
       "      <th>DS</th>\n",
       "      <th>2009</th>\n",
       "      <td>119.54</td>\n",
       "    </tr>\n",
       "    <tr>\n",
       "      <th>X360</th>\n",
       "      <th>2009</th>\n",
       "      <td>120.29</td>\n",
       "    </tr>\n",
       "    <tr>\n",
       "      <th>Wii</th>\n",
       "      <th>2010</th>\n",
       "      <td>127.95</td>\n",
       "    </tr>\n",
       "    <tr>\n",
       "      <th>X360</th>\n",
       "      <th>2010</th>\n",
       "      <td>170.03</td>\n",
       "    </tr>\n",
       "    <tr>\n",
       "      <th>PS2</th>\n",
       "      <th>2010</th>\n",
       "      <td>5.64</td>\n",
       "    </tr>\n",
       "    <tr>\n",
       "      <th>DS</th>\n",
       "      <th>2010</th>\n",
       "      <td>85.02</td>\n",
       "    </tr>\n",
       "    <tr>\n",
       "      <th rowspan=\"2\" valign=\"top\">PS3</th>\n",
       "      <th>2010</th>\n",
       "      <td>142.17</td>\n",
       "    </tr>\n",
       "    <tr>\n",
       "      <th>2011</th>\n",
       "      <td>156.78</td>\n",
       "    </tr>\n",
       "    <tr>\n",
       "      <th>DS</th>\n",
       "      <th>2011</th>\n",
       "      <td>26.18</td>\n",
       "    </tr>\n",
       "    <tr>\n",
       "      <th>Wii</th>\n",
       "      <th>2011</th>\n",
       "      <td>59.65</td>\n",
       "    </tr>\n",
       "    <tr>\n",
       "      <th>PS2</th>\n",
       "      <th>2011</th>\n",
       "      <td>0.45</td>\n",
       "    </tr>\n",
       "    <tr>\n",
       "      <th>X360</th>\n",
       "      <th>2011</th>\n",
       "      <td>143.84</td>\n",
       "    </tr>\n",
       "    <tr>\n",
       "      <th>Wii</th>\n",
       "      <th>2012</th>\n",
       "      <td>21.71</td>\n",
       "    </tr>\n",
       "    <tr>\n",
       "      <th>X360</th>\n",
       "      <th>2012</th>\n",
       "      <td>99.74</td>\n",
       "    </tr>\n",
       "    <tr>\n",
       "      <th>PS3</th>\n",
       "      <th>2012</th>\n",
       "      <td>107.36</td>\n",
       "    </tr>\n",
       "    <tr>\n",
       "      <th>DS</th>\n",
       "      <th>2012</th>\n",
       "      <td>11.01</td>\n",
       "    </tr>\n",
       "    <tr>\n",
       "      <th>PS4</th>\n",
       "      <th>2013</th>\n",
       "      <td>25.99</td>\n",
       "    </tr>\n",
       "    <tr>\n",
       "      <th>Wii</th>\n",
       "      <th>2013</th>\n",
       "      <td>8.59</td>\n",
       "    </tr>\n",
       "    <tr>\n",
       "      <th>X360</th>\n",
       "      <th>2013</th>\n",
       "      <td>88.58</td>\n",
       "    </tr>\n",
       "    <tr>\n",
       "      <th>PS3</th>\n",
       "      <th>2013</th>\n",
       "      <td>113.25</td>\n",
       "    </tr>\n",
       "    <tr>\n",
       "      <th>DS</th>\n",
       "      <th>2013</th>\n",
       "      <td>1.54</td>\n",
       "    </tr>\n",
       "    <tr>\n",
       "      <th>PS4</th>\n",
       "      <th>2014</th>\n",
       "      <td>100.00</td>\n",
       "    </tr>\n",
       "    <tr>\n",
       "      <th>Wii</th>\n",
       "      <th>2014</th>\n",
       "      <td>3.75</td>\n",
       "    </tr>\n",
       "    <tr>\n",
       "      <th>X360</th>\n",
       "      <th>2014</th>\n",
       "      <td>34.74</td>\n",
       "    </tr>\n",
       "    <tr>\n",
       "      <th>PS3</th>\n",
       "      <th>2014</th>\n",
       "      <td>47.76</td>\n",
       "    </tr>\n",
       "    <tr>\n",
       "      <th>PS4</th>\n",
       "      <th>2015</th>\n",
       "      <td>118.90</td>\n",
       "    </tr>\n",
       "    <tr>\n",
       "      <th>Wii</th>\n",
       "      <th>2015</th>\n",
       "      <td>1.14</td>\n",
       "    </tr>\n",
       "    <tr>\n",
       "      <th>X360</th>\n",
       "      <th>2015</th>\n",
       "      <td>11.96</td>\n",
       "    </tr>\n",
       "    <tr>\n",
       "      <th rowspan=\"2\" valign=\"top\">PS3</th>\n",
       "      <th>2015</th>\n",
       "      <td>16.82</td>\n",
       "    </tr>\n",
       "    <tr>\n",
       "      <th>2016</th>\n",
       "      <td>3.60</td>\n",
       "    </tr>\n",
       "    <tr>\n",
       "      <th>PS4</th>\n",
       "      <th>2016</th>\n",
       "      <td>69.25</td>\n",
       "    </tr>\n",
       "    <tr>\n",
       "      <th>Wii</th>\n",
       "      <th>2016</th>\n",
       "      <td>0.18</td>\n",
       "    </tr>\n",
       "    <tr>\n",
       "      <th>X360</th>\n",
       "      <th>2016</th>\n",
       "      <td>1.52</td>\n",
       "    </tr>\n",
       "  </tbody>\n",
       "</table>\n",
       "</div>"
      ],
      "text/plain": [
       "                           total\n",
       "platform year_of_release        \n",
       "DS       2005             130.14\n",
       "X360     2005               8.25\n",
       "PS2      2005             160.66\n",
       "Wii      2006             137.15\n",
       "X360     2006              51.62\n",
       "PS2      2006             103.42\n",
       "PS3      2006              20.96\n",
       "DS       2006             119.81\n",
       "X360     2007              95.41\n",
       "DS       2007             146.94\n",
       "PS2      2007              75.99\n",
       "PS3      2007              73.19\n",
       "Wii      2007             152.77\n",
       "DS       2008             145.31\n",
       "PS3      2008             118.52\n",
       "Wii      2008             171.32\n",
       "PS2      2008              53.90\n",
       "X360     2008             135.26\n",
       "Wii      2009             206.97\n",
       "PS2      2009              26.40\n",
       "PS3      2009             130.93\n",
       "DS       2009             119.54\n",
       "X360     2009             120.29\n",
       "Wii      2010             127.95\n",
       "X360     2010             170.03\n",
       "PS2      2010               5.64\n",
       "DS       2010              85.02\n",
       "PS3      2010             142.17\n",
       "         2011             156.78\n",
       "DS       2011              26.18\n",
       "Wii      2011              59.65\n",
       "PS2      2011               0.45\n",
       "X360     2011             143.84\n",
       "Wii      2012              21.71\n",
       "X360     2012              99.74\n",
       "PS3      2012             107.36\n",
       "DS       2012              11.01\n",
       "PS4      2013              25.99\n",
       "Wii      2013               8.59\n",
       "X360     2013              88.58\n",
       "PS3      2013             113.25\n",
       "DS       2013               1.54\n",
       "PS4      2014             100.00\n",
       "Wii      2014               3.75\n",
       "X360     2014              34.74\n",
       "PS3      2014              47.76\n",
       "PS4      2015             118.90\n",
       "Wii      2015               1.14\n",
       "X360     2015              11.96\n",
       "PS3      2015              16.82\n",
       "         2016               3.60\n",
       "PS4      2016              69.25\n",
       "Wii      2016               0.18\n",
       "X360     2016               1.52"
      ]
     },
     "execution_count": 16,
     "metadata": {},
     "output_type": "execute_result"
    }
   ],
   "source": [
    "data_new.query('platform in @platform_tmp.index').pivot_table(index=['platform', 'year_of_release'], values='total', \n",
    "                                                              aggfunc = 'sum').sort_values(by='year_of_release')\n"
   ]
  },
  {
   "cell_type": "markdown",
   "metadata": {},
   "source": [
    "Изначально я хотела убрать эту сводную по платформам с самыми высокими суммарными продажами в разрезе всех имеющихся временных периодов, но в ней я заметила то, что подтолкунло меня к мысли о том, что прогноз на 2017 должен быть выстроен на базе нескольких предыдущих лет, а не всей совакупности, т к самые высокие по продажам платформы в 2015 году напрмиер показывают низкие результаты(например PS заменили на более новые модели и в данных есть аж 4 версии PS, PS2, PS3 и PS4)"
   ]
  },
  {
   "cell_type": "code",
   "execution_count": 17,
   "metadata": {},
   "outputs": [
    {
     "data": {
      "image/png": "[encoded data removed]",
      "text/plain": [
       "<Figure size 936x360 with 1 Axes>"
      ]
     },
     "metadata": {
      "needs_background": "light"
     },
     "output_type": "display_data"
    }
   ],
   "source": [
    "\n",
    "plt.style.use('seaborn-muted')\n",
    "\n",
    "line_1 = data_new.query('platform ==\"Wii\"').pivot_table(index='year_of_release', values='total', aggfunc='sum')\n",
    "line_2 = data_new.query('platform ==\"PS2\"').pivot_table(index='year_of_release', values='total', aggfunc='sum')\n",
    "line_3 = data_new.query('platform ==\"PS3\"').pivot_table(index='year_of_release', values='total', aggfunc='sum') \n",
    "line_4 = data_new.query('platform ==\"DS\"').pivot_table(index='year_of_release', values='total', aggfunc='sum')\n",
    "line_5 = data_new.query('platform ==\"X360\"').pivot_table(index='year_of_release', values='total', aggfunc='sum')\n",
    "line_6 = data_new.query('platform ==\"PS4\"').pivot_table(index='year_of_release', values='total', aggfunc='sum')\n",
    "\n",
    "fig, ax = plt.subplots(figsize=(13, 5)) \n",
    " \n",
    "ax.plot(line_1, label = 'Wii') \n",
    "ax.plot(line_2, label = 'PS2')\n",
    "ax.plot(line_3, label = 'PS3')\n",
    "ax.plot(line_4, label = 'DS')\n",
    "ax.plot(line_5, label = 'X360')\n",
    "ax.plot(line_6, label = 'PS4')\n",
    "\n",
    "ax.legend(loc = 'upper right') \n",
    "plt.title('Самые популярные платформы')\n",
    "plt.xlabel('Года')\n",
    "plt.ylabel('Сумма продаж')\n",
    "plt.show();"
   ]
  },
  {
   "cell_type": "markdown",
   "metadata": {},
   "source": [
    "Я решила посмотреть на самые высокодоходные платформы в разрезе лет на одном графике, визуально можно сказать о том, что характерный срок за который появляются новые и исчезают старые платформы примерно 10 лет. Видно как поколения PS сменяют друг друга)\n",
    "\n",
    "\n",
    "Для того, чтобы выбрать потенциально прибыльные на 2017 год платформы, лучше рассмотреть период за предыдущие два года, т к рост популярности многих игровых платформ в с 2005 по 2012 может исказить результаты по сумме продаж"
   ]
  },
  {
   "cell_type": "code",
   "execution_count": 18,
   "metadata": {},
   "outputs": [
    {
     "data": {
      "image/png": "[encoded data removed]",
      "text/plain": [
       "<Figure size 504x288 with 1 Axes>"
      ]
     },
     "metadata": {
      "needs_background": "light"
     },
     "output_type": "display_data"
    },
    {
     "data": {
      "image/png": "[encoded data removed]",
      "text/plain": [
       "<Figure size 504x432 with 1 Axes>"
      ]
     },
     "metadata": {
      "needs_background": "light"
     },
     "output_type": "display_data"
    }
   ],
   "source": [
    "tmp_data = data.query('year_of_release >=2014')\n",
    "tmp_data.pivot_table(index='platform', values='total', aggfunc = 'sum').sort_values(by='total').plot(kind='barh',\n",
    "                                                                                                          legend=True,\n",
    "                                                                                                          grid=True,\n",
    "                                                                                                          color=sns.color_palette('pastel'),\n",
    "                                                                                                          ec='black', figsize=(7, 4))\n",
    "\n",
    "plt.title('Самые популярные платформы')\n",
    "plt.xlabel('Сумма продаж')\n",
    "plt.ylabel('Платформа')\n",
    "plt.show();\n",
    "\n",
    "plt.style.use('seaborn-muted')\n",
    "\n",
    "line_1 = data.query('platform ==\"PSV\" and year_of_release>=2014').pivot_table(index='year_of_release', values='total', aggfunc='sum')\n",
    "line_2 = data.query('platform ==\"X360\" and year_of_release>=2014').pivot_table(index='year_of_release', values='total', aggfunc='sum')\n",
    "line_3 = data.query('platform ==\"PC\" and year_of_release>=2014').pivot_table(index='year_of_release', values='total', aggfunc='sum') \n",
    "line_4 = data.query('platform ==\"PS3\" and year_of_release>=2014').pivot_table(index='year_of_release', values='total', aggfunc='sum')\n",
    "line_5 = data.query('platform ==\"WiiU\" and year_of_release>=2014').pivot_table(index='year_of_release', values='total', aggfunc='sum')\n",
    "line_6 = data.query('platform ==\"XOne\" and year_of_release>=2014').pivot_table(index='year_of_release', values='total', aggfunc='sum')\n",
    "line_7 = data.query('platform ==\"PS4\" and year_of_release>=2014').pivot_table(index='year_of_release', values='total', aggfunc='sum')\n",
    "line_8 = data.query('platform ==\"3DS\" and year_of_release>=2014').pivot_table(index='year_of_release', values='total', aggfunc='sum')\n",
    "\n",
    "\n",
    "fig, ax = plt.subplots(figsize=(7, 6)) \n",
    " \n",
    "ax.plot(line_1, label = 'PSV') \n",
    "ax.plot(line_2, label = 'X360')\n",
    "ax.plot(line_3, label = 'PC')\n",
    "ax.plot(line_4, label = 'PS3')\n",
    "ax.plot(line_5, label = 'WiiU')\n",
    "ax.plot(line_6, label = 'XOne')\n",
    "ax.plot(line_7, label = 'PS4')\n",
    "ax.plot(line_8, label = '3DS')\n",
    "\n",
    "ax.legend(loc = 'upper right') \n",
    "plt.title('Самые популярные платформы 2014-2016')\n",
    "plt.xlabel('Года')\n",
    "plt.ylabel('Сумма продаж')\n",
    "plt.show();"
   ]
  },
  {
   "cell_type": "markdown",
   "metadata": {},
   "source": [
    "Не смотря на то, что динамика идет на спад по всем игровым платформам выбранного периода, с отрывом обгоняют конкурентов по сумме продаж PS4, XOne  и 3DS. Я бы делала ставку именно на эти платформы.\n",
    "\n",
    "Изначально мне хотелось посмотреть на динамику платформ с низкими суммарными продажами на графике, так я бы увидела возможно какую-то пока что малопродающую игровую платформу, но которая набирает популярность и ее линия на графике бы это показала, но убрав из общего графика PS4, XOne  и 3DS, такой динамики ни по одной из оставшихся платформ я не наблюдала"
   ]
  },
  {
   "cell_type": "code",
   "execution_count": 19,
   "metadata": {},
   "outputs": [
    {
     "data": {
      "image/png": "[encoded data removed]",
      "text/plain": [
       "<Figure size 576x432 with 1 Axes>"
      ]
     },
     "metadata": {
      "needs_background": "light"
     },
     "output_type": "display_data"
    }
   ],
   "source": [
    "plt.style.use('seaborn-pastel')\n",
    "plt.figure(figsize=(8,6))\n",
    "sns.boxplot (x = 'platform', y = 'total', data = tmp_data)\n",
    "plt.ylim(0,5)\n",
    "plt.title('Ящики с усами')\n",
    "plt.xlabel('Платформы')\n",
    "plt.ylabel('Сумма продаж')\n",
    "plt.show();"
   ]
  },
  {
   "cell_type": "code",
   "execution_count": 20,
   "metadata": {
    "scrolled": true
   },
   "outputs": [
    {
     "name": "stdout",
     "output_type": "stream",
     "text": [
      "Процент отброшенных значений =  1.0 %\n"
     ]
    }
   ],
   "source": [
    "print(\n",
    "    'Процент отброшенных значений = ',\n",
    "    round(len(data['total'])/len(data['total'][data['total']<15]),2),'%') \n"
   ]
  },
  {
   "cell_type": "code",
   "execution_count": 21,
   "metadata": {},
   "outputs": [
    {
     "data": {
      "image/png": "[encoded data removed]",
      "text/plain": [
       "<Figure size 432x288 with 1 Axes>"
      ]
     },
     "metadata": {
      "needs_background": "light"
     },
     "output_type": "display_data"
    }
   ],
   "source": [
    "data = data[data['total']<15]\n",
    "sns.boxplot(data=data, x='total', color='pink');\n",
    "plt.title('Общая сумма продаж');"
   ]
  },
  {
   "cell_type": "markdown",
   "metadata": {},
   "source": [
    "В разрезе всех годов из датасета по продажам лидируют WiiU, PS4, XOne и X360. Также заметила значительный выброс в данных PS4, далее буду это учитывать"
   ]
  },
  {
   "cell_type": "code",
   "execution_count": 22,
   "metadata": {},
   "outputs": [
    {
     "data": {
      "image/png": "[encoded data removed]",
      "text/plain": [
       "<Figure size 432x288 with 2 Axes>"
      ]
     },
     "metadata": {
      "needs_background": "light"
     },
     "output_type": "display_data"
    },
    {
     "data": {
      "image/png": "[encoded data removed]",
      "text/plain": [
       "<Figure size 432x288 with 2 Axes>"
      ]
     },
     "metadata": {
      "needs_background": "light"
     },
     "output_type": "display_data"
    },
    {
     "data": {
      "image/png": "[encoded data removed]",
      "text/plain": [
       "<Figure size 432x288 with 2 Axes>"
      ]
     },
     "metadata": {
      "needs_background": "light"
     },
     "output_type": "display_data"
    },
    {
     "data": {
      "image/png": "[encoded data removed]",
      "text/plain": [
       "<Figure size 432x288 with 2 Axes>"
      ]
     },
     "metadata": {
      "needs_background": "light"
     },
     "output_type": "display_data"
    },
    {
     "data": {
      "image/png": "[encoded data removed]",
      "text/plain": [
       "<Figure size 432x288 with 2 Axes>"
      ]
     },
     "metadata": {
      "needs_background": "light"
     },
     "output_type": "display_data"
    },
    {
     "data": {
      "image/png": "[encoded data removed]",
      "text/plain": [
       "<Figure size 432x288 with 2 Axes>"
      ]
     },
     "metadata": {
      "needs_background": "light"
     },
     "output_type": "display_data"
    }
   ],
   "source": [
    "\n",
    "tmp_data.query('platform ==\"PS4\"').plot.scatter(x='user_score', y='total', s=80, c=tmp_data.query('platform ==\"PS4\"').user_score,\n",
    "                                            cmap='PiYG_r',\n",
    "                                            figsize=(6, 4),\n",
    "                                            grid=True)\n",
    "\n",
    "plt.title('PS4')\n",
    "plt.xlabel('Оценка пользователей')\n",
    "plt.ylabel('Сумма продаж')\n",
    "tmp_data.query('platform ==\"PS4\"').plot.scatter(x='critic_score', y='total', s=80, c=tmp_data.query('platform ==\"PS4\"').user_score,\n",
    "                                            cmap='PiYG_r',\n",
    "                                            figsize=(6, 4),\n",
    "                                            sharex=False, grid=True)\n",
    "\n",
    "plt.title('PS4')\n",
    "plt.xlabel('Оценка критиков')\n",
    "plt.ylabel('Сумма продаж')\n",
    "plt.show();\n",
    "\n",
    "\n",
    "\n",
    "tmp_data.query('platform ==\"XOne\"').plot.scatter(x='user_score', y='total', s=80, c=tmp_data.query('platform ==\"XOne\"').user_score,\n",
    "                                            cmap='plasma',\n",
    "                                            figsize=(6, 4),\n",
    "                                            grid=True)\n",
    "\n",
    "plt.title('XOne')\n",
    "plt.xlabel('Оценка пользователей')\n",
    "plt.ylabel('Сумма продаж')\n",
    "tmp_data.query('platform ==\"XOne\"').plot.scatter(x='critic_score', y='total', s=80, c=tmp_data.query('platform ==\"XOne\"').user_score,\n",
    "                                            cmap='plasma',\n",
    "                                            figsize=(6, 4),\n",
    "                                            sharex=False, grid=True)\n",
    "\n",
    "plt.title('XOne')\n",
    "plt.xlabel('Оценка критиков')\n",
    "plt.ylabel('Сумма продаж')\n",
    "plt.show();\n",
    "\n",
    "\n",
    "tmp_data.query('platform ==\"3DS\"').plot.scatter(x='user_score', y='total', s=80, c=tmp_data.query('platform ==\"3DS\"').user_score,\n",
    "                                            cmap='viridis',\n",
    "                                            figsize=(6, 4),\n",
    "                                            grid=True)\n",
    "\n",
    "plt.title('3DS')\n",
    "plt.xlabel('Оценка пользователей')\n",
    "plt.ylabel('Сумма продаж')\n",
    "tmp_data.query('platform ==\"3DS\"').plot.scatter(x='critic_score', y='total', s=80, c=tmp_data.query('platform ==\"3DS\"').user_score,\n",
    "                                            cmap='viridis',\n",
    "                                            figsize=(6, 4),\n",
    "                                            sharex=False, grid=True)\n",
    "\n",
    "plt.title('3DS')\n",
    "plt.xlabel('Оценка критиков')\n",
    "plt.ylabel('Сумма продаж')\n",
    "plt.show();"
   ]
  },
  {
   "cell_type": "code",
   "execution_count": 23,
   "metadata": {},
   "outputs": [
    {
     "data": {
      "text/html": [
       "<style  type=\"text/css\" >\n",
       "#T_a8eb6_row0_col0,#T_a8eb6_row1_col1,#T_a8eb6_row2_col2{\n",
       "            background-color:  #b40426;\n",
       "            color:  #f1f1f1;\n",
       "        }#T_a8eb6_row0_col1{\n",
       "            background-color:  #dfdbd9;\n",
       "            color:  #000000;\n",
       "        }#T_a8eb6_row0_col2{\n",
       "            background-color:  #abc8fd;\n",
       "            color:  #000000;\n",
       "        }#T_a8eb6_row1_col0{\n",
       "            background-color:  #92b4fe;\n",
       "            color:  #000000;\n",
       "        }#T_a8eb6_row1_col2,#T_a8eb6_row2_col0,#T_a8eb6_row2_col1{\n",
       "            background-color:  #3b4cc0;\n",
       "            color:  #f1f1f1;\n",
       "        }</style><table id=\"T_a8eb6_\" ><thead>    <tr>        <th class=\"blank level0\" ></th>        <th class=\"col_heading level0 col0\" >critic_score</th>        <th class=\"col_heading level0 col1\" >user_score</th>        <th class=\"col_heading level0 col2\" >total</th>    </tr></thead><tbody>\n",
       "                <tr>\n",
       "                        <th id=\"T_a8eb6_level0_row0\" class=\"row_heading level0 row0\" >critic_score</th>\n",
       "                        <td id=\"T_a8eb6_row0_col0\" class=\"data row0 col0\" >1.000000</td>\n",
       "                        <td id=\"T_a8eb6_row0_col1\" class=\"data row0 col1\" >0.504460</td>\n",
       "                        <td id=\"T_a8eb6_row0_col2\" class=\"data row0 col2\" >0.328105</td>\n",
       "            </tr>\n",
       "            <tr>\n",
       "                        <th id=\"T_a8eb6_level0_row1\" class=\"row_heading level0 row1\" >user_score</th>\n",
       "                        <td id=\"T_a8eb6_row1_col0\" class=\"data row1 col0\" >0.504460</td>\n",
       "                        <td id=\"T_a8eb6_row1_col1\" class=\"data row1 col1\" >1.000000</td>\n",
       "                        <td id=\"T_a8eb6_row1_col2\" class=\"data row1 col2\" >-0.013070</td>\n",
       "            </tr>\n",
       "            <tr>\n",
       "                        <th id=\"T_a8eb6_level0_row2\" class=\"row_heading level0 row2\" >total</th>\n",
       "                        <td id=\"T_a8eb6_row2_col0\" class=\"data row2 col0\" >0.328105</td>\n",
       "                        <td id=\"T_a8eb6_row2_col1\" class=\"data row2 col1\" >-0.013070</td>\n",
       "                        <td id=\"T_a8eb6_row2_col2\" class=\"data row2 col2\" >1.000000</td>\n",
       "            </tr>\n",
       "    </tbody></table>"
      ],
      "text/plain": [
       "<pandas.io.formats.style.Styler at 0x7f08c07f90d0>"
      ]
     },
     "execution_count": 23,
     "metadata": {},
     "output_type": "execute_result"
    }
   ],
   "source": [
    "corr = tmp_data[['critic_score', 'user_score', 'total']].corr()\n",
    "corr.style.background_gradient(cmap='coolwarm')"
   ]
  },
  {
   "cell_type": "markdown",
   "metadata": {},
   "source": [
    "По диаграммам рассеяния можно сказать, что чем выше оценка как пользователей, так и критиков, тем больше сумма продаж и наоборот. Рассматривая три наиболее перспективные для 2017 года платформы, мы видим примерно похожую ситуацию у всех выбранных платформ.\n",
    "\n",
    "По значению коэффициента корреляции - связь слабая (в оценках критиков близка к умеренной)"
   ]
  },
  {
   "cell_type": "code",
   "execution_count": 24,
   "metadata": {},
   "outputs": [
    {
     "data": {
      "image/png": "[encoded data removed]",
      "text/plain": [
       "<Figure size 504x288 with 1 Axes>"
      ]
     },
     "metadata": {
      "needs_background": "light"
     },
     "output_type": "display_data"
    }
   ],
   "source": [
    "tmp_data.pivot_table(index='genre', values='total', aggfunc = 'mean').sort_values(by='total').plot(kind='barh',\n",
    "                                                                                                          legend=True,\n",
    "                                                                                                          grid=True,\n",
    "                                                                                                          color=sns.color_palette('pastel'),\n",
    "                                                                                                          ec='black', figsize=(7, 4))\n",
    "\n",
    "plt.title('Распределение по жанрам')\n",
    "plt.xlabel('Медиана продаж')\n",
    "plt.ylabel('Жанр')\n",
    "plt.show();"
   ]
  },
  {
   "cell_type": "markdown",
   "metadata": {},
   "source": [
    "**Вывод**\n",
    " * Посмотрела сколько игр выпускалось в разные годы,с 1980 по 2016 выходило неоднородное количество игр, рост произошел с 2002 года и падение после 2011\n",
    " \n",
    " * Выбрала платформы с наибольшими суммарными продажами и построила распределение по годам (выделила 6 платформ). Характерный срок за который появляются и исчезают платформы это примерно 10 лет. \n",
    " \n",
    "\n",
    " * Не смотря на то, что динамика идет на спад по всем игровым платформам с 2011 года, с отрывом обгоняют конкурентов по сумме продаж на 2014-2016 годы - PS4, XOne и 3DS. Я бы делала ставку именно на эти платформы.\n",
    "\n",
    " \n",
    "\n",
    " * Построила график «ящик с усами» по глобальным продажам игр в разбивке по платформам. В разрезе всех годов по продажам лидируют WiiU, PS4, XOne и X360. Также заметила значительный выброс в данных PS4, избавилась от экстремальных значений.\n",
    "\n",
    "\n",
    " * Посмотрела как влияют на продажи внутри одной популярной платформы отзывы пользователей и критиков. Построила диаграмму рассеяния для трех наиболее прибыльных платформ и посчитала корреляцию между отзывами и продажами.По диаграмме рассеяния можно сказать, что чем выше оценка, тем больше сумма продаж и наоборот.По значению коэффициента корреляции - связь слабая (в оценках критиков близка к умеренной) . \n",
    "\n",
    "\n",
    " * Посмотрела на общее распределение игр по жанрам. Наиболее популярны игры жанров экшн, спорт, платформенные и драки. Наименее популярны игры,таких жанров как: симуляции, приключения, пазлы и стратегии."
   ]
  },
  {
   "cell_type": "markdown",
   "metadata": {},
   "source": [
    "<div class=\"alert alert-success\">\n",
    "<b>Комментарий с комплиментом ревьюера:</b> \n",
    "\n",
    "Отличный вывод.\n",
    "    \n",
    "</div>\n"
   ]
  },
  {
   "cell_type": "markdown",
   "metadata": {},
   "source": [
    "**Шаг 4**"
   ]
  },
  {
   "cell_type": "code",
   "execution_count": 25,
   "metadata": {
    "scrolled": true
   },
   "outputs": [
    {
     "data": {
      "image/png": "[encoded data removed]",
      "text/plain": [
       "<Figure size 432x288 with 1 Axes>"
      ]
     },
     "metadata": {
      "needs_background": "light"
     },
     "output_type": "display_data"
    },
    {
     "data": {
      "image/png": "[encoded data removed]",
      "text/plain": [
       "<Figure size 432x288 with 1 Axes>"
      ]
     },
     "metadata": {
      "needs_background": "light"
     },
     "output_type": "display_data"
    },
    {
     "data": {
      "image/png": "[encoded data removed]",
      "text/plain": [
       "<Figure size 432x288 with 1 Axes>"
      ]
     },
     "metadata": {
      "needs_background": "light"
     },
     "output_type": "display_data"
    }
   ],
   "source": [
    "tmp_data.pivot_table(index='platform', values='na_sales', aggfunc = 'sum').sort_values(by='na_sales',ascending=False).head(5).plot(kind='barh',\n",
    "                                                                                                          legend=True,\n",
    "                                                                                                          grid=True,\n",
    "                                                                                                          color=sns.color_palette('pastel'),\n",
    "                                                                                                          ec='black', figsize=(6, 4))\n",
    "\n",
    "plt.title('продажи в Северной Америке ')\n",
    "plt.xlabel('Сумма продаж')\n",
    "plt.ylabel('Платформа')\n",
    "\n",
    "\n",
    "tmp_data.pivot_table(index='platform', values='eu_sales', aggfunc = 'sum').sort_values(by='eu_sales',ascending=False).head(5).plot(kind='barh',\n",
    "                                                                                                          legend=True,\n",
    "                                                                                                          grid=True,\n",
    "                                                                                                          color=sns.color_palette('pastel'),\n",
    "                                                                                                          ec='black', figsize=(6, 4))\n",
    "\n",
    "plt.title('продажи в Европе ')\n",
    "plt.xlabel('Сумма продаж')\n",
    "plt.ylabel('Платформа')\n",
    "\n",
    "\n",
    "tmp_data.pivot_table(index='platform', values='jp_sales', aggfunc = 'sum').sort_values(by='jp_sales',ascending=False).head(5).plot(kind='barh',\n",
    "                                                                                                          legend=True,\n",
    "                                                                                                          grid=True,\n",
    "                                                                                                          color=sns.color_palette('pastel'),\n",
    "                                                                                                          ec='black', figsize=(6, 4))\n",
    "\n",
    "plt.title('продажи в Японии')\n",
    "plt.xlabel('Сумма продаж')\n",
    "plt.ylabel('Платформа')\n",
    "plt.show();"
   ]
  },
  {
   "cell_type": "markdown",
   "metadata": {},
   "source": [
    "Составив распределения по сумме продаж для каждого региона, можно сказать о том, что самыми популярными платформами в Северной Америке являются (со значительным преимущетсвом) XOne и PS4, а также X360, 3DS и PS3\n",
    "\n",
    "Похожие платформы популярны в Европе, лидируют PS4 и XOne\n",
    "\n",
    "В Японии распределение по платформам выглядит иначе, самая высокая по продпжпм платформа - 3DS, далее PS4 и PSV, затем PS3 и WiiU\n",
    "\n",
    "Также можно сказать о том, что основными покупателями приходятся пользователи из Северной Америки и Европы (более 80 млн проданных копий и более 120 соответственно)"
   ]
  },
  {
   "cell_type": "code",
   "execution_count": 26,
   "metadata": {
    "scrolled": true
   },
   "outputs": [
    {
     "data": {
      "image/png": "[encoded data removed]",
      "text/plain": [
       "<Figure size 432x288 with 1 Axes>"
      ]
     },
     "metadata": {
      "needs_background": "light"
     },
     "output_type": "display_data"
    },
    {
     "data": {
      "image/png": "[encoded data removed]",
      "text/plain": [
       "<Figure size 432x288 with 1 Axes>"
      ]
     },
     "metadata": {
      "needs_background": "light"
     },
     "output_type": "display_data"
    },
    {
     "data": {
      "image/png": "[encoded data removed]",
      "text/plain": [
       "<Figure size 432x288 with 1 Axes>"
      ]
     },
     "metadata": {
      "needs_background": "light"
     },
     "output_type": "display_data"
    }
   ],
   "source": [
    "tmp_data.pivot_table(index='genre', values='na_sales', aggfunc = 'sum').sort_values(by='na_sales',ascending=False).head(5).plot(kind='barh',\n",
    "                                                                                                          legend=True,\n",
    "                                                                                                          grid=True,\n",
    "                                                                                                          color=sns.color_palette(\"Set2\"),\n",
    "                                                                                                          ec='black', figsize=(6, 4))\n",
    "\n",
    "plt.title('продажи в Северной Америке ')\n",
    "plt.xlabel('Сумма продаж')\n",
    "plt.ylabel('Жанр')\n",
    "\n",
    "\n",
    "tmp_data.pivot_table(index='genre', values='eu_sales', aggfunc = 'sum').sort_values(by='eu_sales',ascending=False).head(5).plot(kind='barh',\n",
    "                                                                                                          legend=True,\n",
    "                                                                                                          grid=True,\n",
    "                                                                                                          color=sns.color_palette(\"Set2\"),\n",
    "                                                                                                          ec='black', figsize=(6, 4))\n",
    "\n",
    "plt.title('продажи в Европе ')\n",
    "plt.xlabel('Сумма продаж')\n",
    "plt.ylabel('Жанр')\n",
    "\n",
    "\n",
    "tmp_data.pivot_table(index='genre', values='jp_sales', aggfunc = 'sum').sort_values(by='jp_sales',ascending=False).head(5).plot(kind='barh',\n",
    "                                                                                                          legend=True,\n",
    "                                                                                                          grid=True,\n",
    "                                                                                                          color=sns.color_palette(\"Set2\"),\n",
    "                                                                                                          ec='black', figsize=(6, 4))\n",
    "\n",
    "plt.title('продажи в Японии')\n",
    "plt.xlabel('Сумма продаж')\n",
    "plt.ylabel('Жанр')\n",
    "plt.show();"
   ]
  },
  {
   "cell_type": "markdown",
   "metadata": {},
   "source": [
    "Составив распределения по сумме продаж для каждого региона, можно сказать о том,\n",
    "что самыми популярными жанрами в Северной Америке и Европе являются экшн, спорт и шутеры. В обоих случаях лидируют игры жанра экшн.\n",
    "\n",
    "\n",
    "В Японии распределение по жанрам выглядит иначе, самый популярный - ролевые игры, только потом экшн, а спорт вообще не попал в топ 5"
   ]
  },
  {
   "cell_type": "code",
   "execution_count": 27,
   "metadata": {},
   "outputs": [
    {
     "data": {
      "image/png": "[encoded data removed]",
      "text/plain": [
       "<Figure size 432x288 with 1 Axes>"
      ]
     },
     "metadata": {
      "needs_background": "light"
     },
     "output_type": "display_data"
    },
    {
     "data": {
      "image/png": "[encoded data removed]",
      "text/plain": [
       "<Figure size 432x288 with 1 Axes>"
      ]
     },
     "metadata": {
      "needs_background": "light"
     },
     "output_type": "display_data"
    },
    {
     "data": {
      "image/png": "[encoded data removed]",
      "text/plain": [
       "<Figure size 432x288 with 1 Axes>"
      ]
     },
     "metadata": {
      "needs_background": "light"
     },
     "output_type": "display_data"
    }
   ],
   "source": [
    "tmp_data.pivot_table(index='rating', values='na_sales', aggfunc = 'sum').sort_values(by='na_sales',ascending=False).head(5).plot(kind='barh',\n",
    "                                                                                                          legend=True,\n",
    "                                                                                                          grid=True,\n",
    "                                                                                                          color=sns.color_palette(\"rocket\"),\n",
    "                                                                                                          ec='black', figsize=(6, 4))\n",
    "\n",
    "plt.title('продажи в Северной Америке ')\n",
    "plt.xlabel('Сумма продаж')\n",
    "plt.ylabel('Рейтинг')\n",
    "\n",
    "\n",
    "tmp_data.pivot_table(index='rating', values='eu_sales', aggfunc = 'sum').sort_values(by='eu_sales',ascending=False).head(5).plot(kind='barh',\n",
    "                                                                                                          legend=True,\n",
    "                                                                                                          grid=True,\n",
    "                                                                                                          color=sns.color_palette(\"rocket\"),\n",
    "                                                                                                          ec='black', figsize=(6, 4))\n",
    "\n",
    "plt.title('продажи в Европе ')\n",
    "plt.xlabel('Сумма продаж')\n",
    "plt.ylabel('Рейтинг')\n",
    "\n",
    "\n",
    "tmp_data.pivot_table(index='rating', values='jp_sales', aggfunc = 'sum').sort_values(by='jp_sales',ascending=False).head(5).plot(kind='barh',\n",
    "                                                                                                          legend=True,\n",
    "                                                                                                          grid=True,\n",
    "                                                                                                          color=sns.color_palette(\"rocket\"),\n",
    "                                                                                                          ec='black', figsize=(6, 4))\n",
    "\n",
    "plt.title('продажи в Японии')\n",
    "plt.xlabel('Сумма продаж')\n",
    "plt.ylabel('Рейтинг')\n",
    "plt.show();"
   ]
  },
  {
   "cell_type": "markdown",
   "metadata": {},
   "source": [
    "Зависимость от рейтинга отслеживается во всех трех регионах. \n",
    "\n",
    "Наиболее популярны игры с рейтингом \"17+\"(в Европе и Северной Америке спрос на них выше, японцы больше предпочитают игры \"для подростков\"). Также во всех трех наблюдаемых группах популярны игры с рейтингом \"для всех\""
   ]
  },
  {
   "cell_type": "markdown",
   "metadata": {},
   "source": [
    "**Шаг 5**"
   ]
  },
  {
   "cell_type": "markdown",
   "metadata": {},
   "source": [
    "Проверю гипотезу\n",
    "\n",
    "Средние пользовательские рейтинги платформ Xbox One и PC одинаковые\n",
    "\n",
    "h0 cредние пользовательские рейтинги платформ Xbox One и PC одинаковые\n",
    "\n",
    "h1 cредние пользовательские рейтинги платформ Xbox One и PC не одинаковые"
   ]
  },
  {
   "cell_type": "code",
   "execution_count": 28,
   "metadata": {},
   "outputs": [
    {
     "name": "stdout",
     "output_type": "stream",
     "text": [
      "0.10450507919348415\n",
      "Не отвергаем нулевую гипотезу (h0): Средние пользовательские рейтинги платформ Xbox One и PC одинаковы.\n"
     ]
    }
   ],
   "source": [
    "xbox_one_ratings = tmp_data[tmp_data['platform'] == 'XOne']['user_score'].dropna()\n",
    "pc_ratings = tmp_data[tmp_data['platform'] == 'PC']['user_score'].dropna()\n",
    "\n",
    "results = st.ttest_ind(xbox_one_ratings, pc_ratings, alternative='two-sided')\n",
    "\n",
    "alpha = 0.05\n",
    "\n",
    "print(results.pvalue)\n",
    "\n",
    "if results.pvalue < alpha:\n",
    "    print(\"Отвергаем нулевую гипотезу (h0): Средние пользовательские рейтинги платформ Xbox One и PC различаются.\")\n",
    "else:\n",
    "    print(\"Не отвергаем нулевую гипотезу (h0): Средние пользовательские рейтинги платформ Xbox One и PC одинаковы.\")"
   ]
  },
  {
   "cell_type": "markdown",
   "metadata": {},
   "source": [
    "Пришлось удалить пропущенные значения в user_score. Потому что значение \"nan\" появляется из-за наличия пропущенных значений в переменных xbox_one_ratings и pc_ratings"
   ]
  },
  {
   "cell_type": "markdown",
   "metadata": {},
   "source": [
    "Проверю гипотезу\n",
    "\n",
    "Средние пользовательские рейтинги жанров Action (англ. «действие», экшен-игры) и Sports (англ. «спортивные соревнования») разные\n",
    "\n",
    "h0 cредние пользовательские рейтинги жанров Action и Sports одинаковые\n",
    "\n",
    "h1 cредние пользовательские рейтинги жанров Action и Sports разные"
   ]
  },
  {
   "cell_type": "code",
   "execution_count": 29,
   "metadata": {},
   "outputs": [
    {
     "name": "stdout",
     "output_type": "stream",
     "text": [
      "2.8711147985105864e-19\n",
      "Отвергаем нулевую гипотезу (h0): Средние пользовательские рейтинги жанров Action и Sports различаются.\n"
     ]
    }
   ],
   "source": [
    "action_ratings = tmp_data[tmp_data['genre'] == 'Action']['user_score'].dropna()\n",
    "sports_ratings = tmp_data[tmp_data['genre'] == 'Sports']['user_score'].dropna()\n",
    "\n",
    "results = st.ttest_ind(action_ratings, sports_ratings, alternative='two-sided')\n",
    "\n",
    "alpha = 0.05\n",
    "\n",
    "print(results.pvalue)\n",
    "\n",
    "if results.pvalue < alpha:\n",
    "    print(\"Отвергаем нулевую гипотезу (h0): Средние пользовательские рейтинги жанров Action и Sports различаются.\")\n",
    "else:\n",
    "    print(\"Не отвергаем нулевую гипотезу (h0): Средние пользовательские рейтинги жанров Action и Sports одинаковы.\")"
   ]
  },
  {
   "cell_type": "markdown",
   "metadata": {},
   "source": [
    "**Шаг 6 Вывод**\n",
    "\n",
    "Было произведено преобразование данных для удобства использования. Названия столбцов были приведены к нижнему регистру, а типы данных в столбцах year_of_release и user_score были изменены на int и float соответственно.\n",
    "\n",
    "Пропуски в столбцах name, year_of_release и genre были обработаны. Важно отметить, что пропуски в столбце year_of_release особенно негативно сказываются на качестве данных, так как данная информация необходима для дальнейшего исследования. В связи с этим, строки с пропущенными значениями были удалены из датасета.\n",
    "\n",
    "Были рассчитаны суммарные продажи во всех регионах и добавлены в отдельный столбец под названием \"total\". Это позволило получить более полную информацию о доходности каждой игры.\n",
    "\n",
    "Было проанализировано количество выпущенных игр в разные годы. С 1980 по 2016 год неоднородно меняется количество выпускаемых игр, причем наибольший рост наблюдается после 2002 года. Однако, после 2011 года наблюдается снижение выпуска игр.\n",
    "\n",
    "На основе анализа суммарных продаж выбраны шесть наиболее прибыльных игровых платформ. Построены графики распределения продаж по годам для этих платформ. Важно отметить, что характерный срок существования платформы составляет примерно 10 лет. Также было выяснено, что несмотря на общий тренд спада продаж после 2011 года, некоторые платформы (PS4, XOne и 3DS) продолжают обгонять конкурентов и показывают прибыльный результат в 2014-2016 годах.\n",
    "\n",
    "Построен \"ящик с усами\" для глобальных продаж игр в разбивке по платформам. Среди всех лет рассматриваемого периода (1980-2016) наибольшие продажи имели WiiU, PS4, XOne и X360. Было также обнаружено наличие выбросов в данных для платформы PS4, поэтому было принято решение исключить экстремальные значения.\n",
    "\n",
    "Было исследовано влияние оценок пользователей и критиков на продажи игр. Построена диаграмма рассеяния и рассчитан коэффициент корреляции. Полученные результаты позволяют сделать вывод о том, что существует слабая связь между оценками и продажами (оценки критиков имеют умеренную связь). То есть, чем выше оценка, тем больше сумма продаж, и наоборот.\n",
    "\n",
    "**Таким образом, проведенный анализ позволяет сделать вывод, что для достижения успеха на рынке видеоигр важным фактором являются высокие оценки от пользователей и критиков, а также выбор платформ, которые продолжают показывать прибыльные результаты**\n",
    "\n",
    "Самыми популярными жанрами игр являются экшн, спорт, шутеры и ролевые игры, а наименее популярными - симуляции, приключения, пазлы и стратегии.\n",
    "\n",
    "В Северной Америке и Европе наиболее популярными платформами являются XOne и PS4, а также X360, 3DS и PS3. В Японии же основными платформами являются 3DS, далее PS4 и PSV, затем PS3 и WiiU. Это указывает на разные предпочтения в различных регионах.\n",
    "\n",
    "Самые активные покупатели находятся в Северной Америке и Европе, где было продано более 80 миллионов копий игр в каждом регионе.\n",
    "\n",
    "В Северной Америке и Европе самыми популярными жанрами являются экшн, спорт и шутеры. В Японии же самый популярный жанр - ролевые игры, а затем идут экшн и драки.\n",
    "\n",
    "Отзывы пользователей не различаются в зависимости от платформы. Средние пользовательские рейтинги платформ Xbox One и PC не различаются.\n",
    "\n",
    "Отзывы пользователей различаются в зависимости от жанра. Средние пользовательские рейтинги жанров Action и Sports значимо различаются.\n",
    "\n",
    "**Таким образом, можно сделать вывод, что предпочтения игроков, платформы и жанры, могут сильно различаться в зависимости от региона, а также у пользователей есть различные предпочтения в отношении платформ и жанров игр**"
   ]
  },
  {
   "cell_type": "markdown",
   "metadata": {},
   "source": [
    "<img src = \"https://media.tenor.com/2aSuT7p_a_UAAAAi/peachcat-cat.gif\" width=180>"
   ]
  },
  {
   "cell_type": "code",
   "execution_count": null,
   "metadata": {},
   "outputs": [],
   "source": []
  }
 ],
 "metadata": {
  "ExecuteTimeLog": [
   {
    "duration": 1273,
    "start_time": "2023-12-12T18:27:15.866Z"
   },
   {
    "duration": 187,
    "start_time": "2023-12-12T18:27:21.992Z"
   },
   {
    "duration": 79,
    "start_time": "2023-12-12T19:02:25.618Z"
   },
   {
    "duration": 13,
    "start_time": "2023-12-12T19:13:14.908Z"
   },
   {
    "duration": 6,
    "start_time": "2023-12-12T19:24:35.545Z"
   },
   {
    "duration": 103,
    "start_time": "2023-12-12T19:32:13.972Z"
   },
   {
    "duration": 7,
    "start_time": "2023-12-12T19:32:56.564Z"
   },
   {
    "duration": 8,
    "start_time": "2023-12-12T19:33:09.036Z"
   },
   {
    "duration": 190,
    "start_time": "2023-12-12T19:34:08.509Z"
   },
   {
    "duration": 13,
    "start_time": "2023-12-12T19:35:17.675Z"
   },
   {
    "duration": 7,
    "start_time": "2023-12-12T19:35:42.476Z"
   },
   {
    "duration": 1060,
    "start_time": "2023-12-12T19:35:59.172Z"
   },
   {
    "duration": 83,
    "start_time": "2023-12-12T19:36:00.234Z"
   },
   {
    "duration": 13,
    "start_time": "2023-12-12T19:36:00.318Z"
   },
   {
    "duration": 21,
    "start_time": "2023-12-12T19:36:00.332Z"
   },
   {
    "duration": 20,
    "start_time": "2023-12-12T19:36:00.355Z"
   },
   {
    "duration": 45,
    "start_time": "2023-12-12T19:41:32.502Z"
   },
   {
    "duration": 53,
    "start_time": "2023-12-12T19:42:07.411Z"
   },
   {
    "duration": 1120,
    "start_time": "2023-12-12T19:43:21.288Z"
   },
   {
    "duration": 82,
    "start_time": "2023-12-12T19:43:22.409Z"
   },
   {
    "duration": 12,
    "start_time": "2023-12-12T19:43:22.492Z"
   },
   {
    "duration": 14,
    "start_time": "2023-12-12T19:43:22.505Z"
   },
   {
    "duration": 16,
    "start_time": "2023-12-12T19:43:22.520Z"
   },
   {
    "duration": 94,
    "start_time": "2023-12-12T19:44:57.103Z"
   },
   {
    "duration": 11,
    "start_time": "2023-12-12T19:45:08.097Z"
   },
   {
    "duration": 16,
    "start_time": "2023-12-12T19:45:29.452Z"
   },
   {
    "duration": 18,
    "start_time": "2023-12-12T19:46:57.732Z"
   },
   {
    "duration": 9,
    "start_time": "2023-12-12T19:47:40.976Z"
   },
   {
    "duration": 14,
    "start_time": "2023-12-12T19:47:50.056Z"
   },
   {
    "duration": 1068,
    "start_time": "2023-12-12T19:48:04.953Z"
   },
   {
    "duration": 80,
    "start_time": "2023-12-12T19:48:06.023Z"
   },
   {
    "duration": 12,
    "start_time": "2023-12-12T19:48:06.104Z"
   },
   {
    "duration": 15,
    "start_time": "2023-12-12T19:48:06.117Z"
   },
   {
    "duration": 21,
    "start_time": "2023-12-12T19:48:06.134Z"
   },
   {
    "duration": 1098,
    "start_time": "2023-12-12T19:48:27.221Z"
   },
   {
    "duration": 97,
    "start_time": "2023-12-12T19:48:28.321Z"
   },
   {
    "duration": 12,
    "start_time": "2023-12-12T19:48:28.420Z"
   },
   {
    "duration": 10,
    "start_time": "2023-12-12T19:48:28.434Z"
   },
   {
    "duration": 105,
    "start_time": "2023-12-12T19:48:28.446Z"
   },
   {
    "duration": 9,
    "start_time": "2023-12-12T19:48:40.675Z"
   },
   {
    "duration": 49,
    "start_time": "2023-12-12T19:51:00.876Z"
   },
   {
    "duration": 18,
    "start_time": "2023-12-12T19:51:10.089Z"
   },
   {
    "duration": 18,
    "start_time": "2023-12-12T19:53:32.810Z"
   },
   {
    "duration": 57,
    "start_time": "2023-12-12T19:53:48.792Z"
   },
   {
    "duration": 27,
    "start_time": "2023-12-12T19:54:27.678Z"
   },
   {
    "duration": 1082,
    "start_time": "2023-12-12T19:54:51.777Z"
   },
   {
    "duration": 80,
    "start_time": "2023-12-12T19:54:52.861Z"
   },
   {
    "duration": 13,
    "start_time": "2023-12-12T19:54:52.942Z"
   },
   {
    "duration": 6,
    "start_time": "2023-12-12T19:54:52.957Z"
   },
   {
    "duration": 41,
    "start_time": "2023-12-12T19:54:52.964Z"
   },
   {
    "duration": 1146,
    "start_time": "2023-12-12T19:55:48.262Z"
   },
   {
    "duration": 79,
    "start_time": "2023-12-12T19:55:49.410Z"
   },
   {
    "duration": 12,
    "start_time": "2023-12-12T19:55:49.490Z"
   },
   {
    "duration": 10,
    "start_time": "2023-12-12T19:55:49.503Z"
   },
   {
    "duration": 17,
    "start_time": "2023-12-12T19:55:49.515Z"
   },
   {
    "duration": 19,
    "start_time": "2023-12-12T19:56:20.027Z"
   },
   {
    "duration": 107,
    "start_time": "2023-12-12T19:57:48.738Z"
   },
   {
    "duration": 1063,
    "start_time": "2023-12-12T19:57:56.258Z"
   },
   {
    "duration": 79,
    "start_time": "2023-12-12T19:57:57.323Z"
   },
   {
    "duration": 12,
    "start_time": "2023-12-12T19:57:57.404Z"
   },
   {
    "duration": 5,
    "start_time": "2023-12-12T19:57:57.417Z"
   },
   {
    "duration": 111,
    "start_time": "2023-12-12T19:57:57.424Z"
   },
   {
    "duration": 21,
    "start_time": "2023-12-12T19:58:22.143Z"
   },
   {
    "duration": 33,
    "start_time": "2023-12-12T19:58:46.905Z"
   },
   {
    "duration": 1374,
    "start_time": "2023-12-13T19:33:02.830Z"
   },
   {
    "duration": 123,
    "start_time": "2023-12-13T19:33:04.206Z"
   },
   {
    "duration": 12,
    "start_time": "2023-12-13T19:33:04.331Z"
   },
   {
    "duration": 8,
    "start_time": "2023-12-13T19:33:04.345Z"
   },
   {
    "duration": 42,
    "start_time": "2023-12-13T19:33:04.355Z"
   },
   {
    "duration": 1361,
    "start_time": "2023-12-14T19:32:50.580Z"
   },
   {
    "duration": 226,
    "start_time": "2023-12-14T19:32:54.798Z"
   },
   {
    "duration": 13,
    "start_time": "2023-12-14T19:33:03.565Z"
   },
   {
    "duration": 5,
    "start_time": "2023-12-14T19:33:22.302Z"
   },
   {
    "duration": 10,
    "start_time": "2023-12-14T19:38:26.684Z"
   },
   {
    "duration": 7,
    "start_time": "2023-12-14T19:38:45.386Z"
   },
   {
    "duration": 8,
    "start_time": "2023-12-14T19:39:40.535Z"
   },
   {
    "duration": 99,
    "start_time": "2023-12-14T19:40:46.474Z"
   },
   {
    "duration": 15,
    "start_time": "2023-12-14T19:41:04.857Z"
   },
   {
    "duration": 9,
    "start_time": "2023-12-14T19:43:36.378Z"
   },
   {
    "duration": 9,
    "start_time": "2023-12-14T19:44:10.573Z"
   },
   {
    "duration": 28,
    "start_time": "2023-12-14T19:46:05.424Z"
   },
   {
    "duration": 20,
    "start_time": "2023-12-14T19:49:12.077Z"
   },
   {
    "duration": 24,
    "start_time": "2023-12-14T19:49:58.981Z"
   },
   {
    "duration": 7,
    "start_time": "2023-12-14T20:00:16.550Z"
   },
   {
    "duration": 8,
    "start_time": "2023-12-14T20:01:30.331Z"
   },
   {
    "duration": 6,
    "start_time": "2023-12-14T20:01:37.227Z"
   },
   {
    "duration": 7,
    "start_time": "2023-12-14T20:01:44.479Z"
   },
   {
    "duration": 63,
    "start_time": "2023-12-14T20:03:00.874Z"
   },
   {
    "duration": 10,
    "start_time": "2023-12-14T20:03:10.554Z"
   },
   {
    "duration": 4,
    "start_time": "2023-12-14T20:03:37.791Z"
   },
   {
    "duration": 5,
    "start_time": "2023-12-14T20:04:26.316Z"
   },
   {
    "duration": 5,
    "start_time": "2023-12-14T20:05:15.165Z"
   },
   {
    "duration": 4,
    "start_time": "2023-12-14T20:05:46.596Z"
   },
   {
    "duration": 4,
    "start_time": "2023-12-14T20:05:56.085Z"
   },
   {
    "duration": 5,
    "start_time": "2023-12-14T20:07:13.578Z"
   },
   {
    "duration": 4,
    "start_time": "2023-12-14T20:07:22.297Z"
   },
   {
    "duration": 4,
    "start_time": "2023-12-14T20:07:48.052Z"
   },
   {
    "duration": 12,
    "start_time": "2023-12-14T20:10:47.802Z"
   },
   {
    "duration": 26,
    "start_time": "2023-12-14T20:11:08.596Z"
   },
   {
    "duration": 12,
    "start_time": "2023-12-14T20:15:03.723Z"
   },
   {
    "duration": 21,
    "start_time": "2023-12-14T20:15:29.895Z"
   },
   {
    "duration": 21,
    "start_time": "2023-12-14T20:15:48.739Z"
   },
   {
    "duration": 8,
    "start_time": "2023-12-14T20:17:28.969Z"
   },
   {
    "duration": 371,
    "start_time": "2023-12-14T20:17:42.666Z"
   },
   {
    "duration": 196,
    "start_time": "2023-12-14T20:24:35.441Z"
   },
   {
    "duration": 204,
    "start_time": "2023-12-14T20:25:47.050Z"
   },
   {
    "duration": 1193,
    "start_time": "2023-12-14T20:26:04.424Z"
   },
   {
    "duration": 82,
    "start_time": "2023-12-14T20:26:05.619Z"
   },
   {
    "duration": 12,
    "start_time": "2023-12-14T20:26:05.702Z"
   },
   {
    "duration": 12,
    "start_time": "2023-12-14T20:26:05.715Z"
   },
   {
    "duration": 28,
    "start_time": "2023-12-14T20:26:05.729Z"
   },
   {
    "duration": 4,
    "start_time": "2023-12-14T20:26:05.758Z"
   },
   {
    "duration": 316,
    "start_time": "2023-12-14T20:26:05.764Z"
   },
   {
    "duration": 0,
    "start_time": "2023-12-14T20:26:06.081Z"
   },
   {
    "duration": 200,
    "start_time": "2023-12-14T20:27:21.129Z"
   },
   {
    "duration": 19,
    "start_time": "2023-12-14T20:29:20.670Z"
   },
   {
    "duration": 11,
    "start_time": "2023-12-14T20:33:56.213Z"
   },
   {
    "duration": 1050,
    "start_time": "2023-12-14T20:34:12.768Z"
   },
   {
    "duration": 79,
    "start_time": "2023-12-14T20:34:13.819Z"
   },
   {
    "duration": 11,
    "start_time": "2023-12-14T20:34:13.900Z"
   },
   {
    "duration": 11,
    "start_time": "2023-12-14T20:34:13.912Z"
   },
   {
    "duration": 25,
    "start_time": "2023-12-14T20:34:13.925Z"
   },
   {
    "duration": 3,
    "start_time": "2023-12-14T20:34:13.952Z"
   },
   {
    "duration": 15,
    "start_time": "2023-12-14T20:34:13.956Z"
   },
   {
    "duration": 318,
    "start_time": "2023-12-14T20:34:13.972Z"
   },
   {
    "duration": 664,
    "start_time": "2023-12-14T20:35:09.572Z"
   },
   {
    "duration": 310,
    "start_time": "2023-12-14T20:36:05.703Z"
   },
   {
    "duration": 1141,
    "start_time": "2023-12-14T20:36:16.889Z"
   },
   {
    "duration": 82,
    "start_time": "2023-12-14T20:36:18.032Z"
   },
   {
    "duration": 12,
    "start_time": "2023-12-14T20:36:18.115Z"
   },
   {
    "duration": 11,
    "start_time": "2023-12-14T20:36:18.129Z"
   },
   {
    "duration": 32,
    "start_time": "2023-12-14T20:36:18.142Z"
   },
   {
    "duration": 6,
    "start_time": "2023-12-14T20:36:18.176Z"
   },
   {
    "duration": 804,
    "start_time": "2023-12-14T20:36:18.183Z"
   },
   {
    "duration": 0,
    "start_time": "2023-12-14T20:36:18.989Z"
   },
   {
    "duration": 224,
    "start_time": "2023-12-14T20:38:14.276Z"
   },
   {
    "duration": 1062,
    "start_time": "2023-12-14T20:38:46.759Z"
   },
   {
    "duration": 78,
    "start_time": "2023-12-14T20:38:47.823Z"
   },
   {
    "duration": 11,
    "start_time": "2023-12-14T20:38:47.904Z"
   },
   {
    "duration": 11,
    "start_time": "2023-12-14T20:38:47.916Z"
   },
   {
    "duration": 29,
    "start_time": "2023-12-14T20:38:47.928Z"
   },
   {
    "duration": 13,
    "start_time": "2023-12-14T20:38:47.958Z"
   },
   {
    "duration": 658,
    "start_time": "2023-12-14T20:38:47.972Z"
   },
   {
    "duration": 0,
    "start_time": "2023-12-14T20:38:48.631Z"
   },
   {
    "duration": 547,
    "start_time": "2023-12-14T20:40:35.997Z"
   },
   {
    "duration": 1078,
    "start_time": "2023-12-14T20:41:35.047Z"
   },
   {
    "duration": 81,
    "start_time": "2023-12-14T20:41:36.128Z"
   },
   {
    "duration": 12,
    "start_time": "2023-12-14T20:41:36.210Z"
   },
   {
    "duration": 15,
    "start_time": "2023-12-14T20:41:36.224Z"
   },
   {
    "duration": 34,
    "start_time": "2023-12-14T20:41:36.240Z"
   },
   {
    "duration": 55,
    "start_time": "2023-12-14T20:41:36.275Z"
   },
   {
    "duration": 0,
    "start_time": "2023-12-14T20:41:36.331Z"
   },
   {
    "duration": 0,
    "start_time": "2023-12-14T20:41:36.333Z"
   },
   {
    "duration": 14,
    "start_time": "2023-12-14T20:41:48.328Z"
   },
   {
    "duration": 13,
    "start_time": "2023-12-14T20:43:23.349Z"
   },
   {
    "duration": 20,
    "start_time": "2023-12-14T20:44:02.081Z"
   },
   {
    "duration": 1102,
    "start_time": "2023-12-14T20:45:08.849Z"
   },
   {
    "duration": 83,
    "start_time": "2023-12-14T20:45:09.953Z"
   },
   {
    "duration": 12,
    "start_time": "2023-12-14T20:45:10.038Z"
   },
   {
    "duration": 11,
    "start_time": "2023-12-14T20:45:10.051Z"
   },
   {
    "duration": 51,
    "start_time": "2023-12-14T20:45:10.065Z"
   },
   {
    "duration": 5,
    "start_time": "2023-12-14T20:45:10.117Z"
   },
   {
    "duration": 46,
    "start_time": "2023-12-14T20:45:10.124Z"
   },
   {
    "duration": 2,
    "start_time": "2023-12-14T20:45:10.172Z"
   },
   {
    "duration": 38,
    "start_time": "2023-12-14T20:45:10.175Z"
   },
   {
    "duration": 7,
    "start_time": "2023-12-14T20:45:49.187Z"
   },
   {
    "duration": 104,
    "start_time": "2023-12-14T20:48:23.446Z"
   },
   {
    "duration": 31,
    "start_time": "2023-12-14T20:50:03.189Z"
   },
   {
    "duration": 19,
    "start_time": "2023-12-14T20:50:43.887Z"
   },
   {
    "duration": 1052,
    "start_time": "2023-12-14T20:51:11.965Z"
   },
   {
    "duration": 90,
    "start_time": "2023-12-14T20:51:13.018Z"
   },
   {
    "duration": 11,
    "start_time": "2023-12-14T20:51:13.110Z"
   },
   {
    "duration": 11,
    "start_time": "2023-12-14T20:51:13.123Z"
   },
   {
    "duration": 26,
    "start_time": "2023-12-14T20:51:13.136Z"
   },
   {
    "duration": 5,
    "start_time": "2023-12-14T20:51:13.164Z"
   },
   {
    "duration": 45,
    "start_time": "2023-12-14T20:51:13.171Z"
   },
   {
    "duration": 3,
    "start_time": "2023-12-14T20:51:13.217Z"
   },
   {
    "duration": 27,
    "start_time": "2023-12-14T20:51:13.221Z"
   },
   {
    "duration": 19,
    "start_time": "2023-12-14T20:52:20.451Z"
   },
   {
    "duration": 15,
    "start_time": "2023-12-14T20:52:44.921Z"
   },
   {
    "duration": 19,
    "start_time": "2023-12-14T20:52:54.189Z"
   },
   {
    "duration": 9,
    "start_time": "2023-12-14T20:54:30.087Z"
   },
   {
    "duration": 24,
    "start_time": "2023-12-14T20:55:27.958Z"
   },
   {
    "duration": 97,
    "start_time": "2023-12-14T21:08:48.178Z"
   },
   {
    "duration": 11,
    "start_time": "2023-12-14T21:09:09.607Z"
   },
   {
    "duration": 14,
    "start_time": "2023-12-14T21:09:36.009Z"
   },
   {
    "duration": 1347,
    "start_time": "2023-12-15T16:32:59.426Z"
   },
   {
    "duration": 122,
    "start_time": "2023-12-15T16:33:00.775Z"
   },
   {
    "duration": 11,
    "start_time": "2023-12-15T16:33:00.899Z"
   },
   {
    "duration": 59,
    "start_time": "2023-12-15T16:33:00.911Z"
   },
   {
    "duration": 53,
    "start_time": "2023-12-15T16:33:00.972Z"
   },
   {
    "duration": 219,
    "start_time": "2023-12-15T16:33:01.026Z"
   },
   {
    "duration": 80,
    "start_time": "2023-12-15T16:33:01.247Z"
   },
   {
    "duration": 37,
    "start_time": "2023-12-15T16:33:01.329Z"
   },
   {
    "duration": 32,
    "start_time": "2023-12-15T16:33:01.368Z"
   },
   {
    "duration": 6,
    "start_time": "2023-12-15T16:55:09.204Z"
   },
   {
    "duration": 4,
    "start_time": "2023-12-15T16:59:21.739Z"
   },
   {
    "duration": 7,
    "start_time": "2023-12-15T16:59:48.902Z"
   },
   {
    "duration": 100,
    "start_time": "2023-12-15T17:01:16.737Z"
   },
   {
    "duration": 6,
    "start_time": "2023-12-15T17:01:39.279Z"
   },
   {
    "duration": 8,
    "start_time": "2023-12-15T17:06:57.089Z"
   },
   {
    "duration": 85,
    "start_time": "2023-12-15T17:41:37.581Z"
   },
   {
    "duration": 85,
    "start_time": "2023-12-15T17:41:47.722Z"
   },
   {
    "duration": 81,
    "start_time": "2023-12-15T17:42:11.655Z"
   },
   {
    "duration": 162,
    "start_time": "2023-12-15T17:42:39.996Z"
   },
   {
    "duration": 156,
    "start_time": "2023-12-15T17:44:12.812Z"
   },
   {
    "duration": 158,
    "start_time": "2023-12-15T17:45:02.972Z"
   },
   {
    "duration": 156,
    "start_time": "2023-12-15T17:45:32.325Z"
   },
   {
    "duration": 14,
    "start_time": "2023-12-15T17:51:10.432Z"
   },
   {
    "duration": 16,
    "start_time": "2023-12-15T17:51:20.160Z"
   },
   {
    "duration": 14,
    "start_time": "2023-12-15T17:52:53.054Z"
   },
   {
    "duration": 306,
    "start_time": "2023-12-15T17:56:49.966Z"
   },
   {
    "duration": 15,
    "start_time": "2023-12-15T17:57:42.290Z"
   },
   {
    "duration": 173,
    "start_time": "2023-12-15T17:57:46.631Z"
   },
   {
    "duration": 173,
    "start_time": "2023-12-15T17:58:27.211Z"
   },
   {
    "duration": 217,
    "start_time": "2023-12-15T18:03:45.306Z"
   },
   {
    "duration": 139,
    "start_time": "2023-12-15T18:04:34.415Z"
   },
   {
    "duration": 140,
    "start_time": "2023-12-15T18:04:55.576Z"
   },
   {
    "duration": 176,
    "start_time": "2023-12-15T18:05:08.869Z"
   },
   {
    "duration": 3558,
    "start_time": "2023-12-15T18:06:36.390Z"
   },
   {
    "duration": 64819,
    "start_time": "2023-12-15T18:07:26.478Z"
   },
   {
    "duration": 1171,
    "start_time": "2023-12-15T18:09:41.173Z"
   },
   {
    "duration": 179,
    "start_time": "2023-12-15T18:13:09.020Z"
   },
   {
    "duration": 206,
    "start_time": "2023-12-15T18:13:29.688Z"
   },
   {
    "duration": 15,
    "start_time": "2023-12-15T18:14:19.342Z"
   },
   {
    "duration": 19,
    "start_time": "2023-12-15T18:15:05.129Z"
   },
   {
    "duration": 16,
    "start_time": "2023-12-15T18:16:45.450Z"
   },
   {
    "duration": 159,
    "start_time": "2023-12-15T18:18:56.087Z"
   },
   {
    "duration": 70,
    "start_time": "2023-12-15T18:19:40.769Z"
   },
   {
    "duration": 128,
    "start_time": "2023-12-15T18:20:26.874Z"
   },
   {
    "duration": 121,
    "start_time": "2023-12-15T18:20:40.293Z"
   },
   {
    "duration": 16,
    "start_time": "2023-12-15T18:21:03.579Z"
   },
   {
    "duration": 13,
    "start_time": "2023-12-15T18:24:36.691Z"
   },
   {
    "duration": 150,
    "start_time": "2023-12-15T18:24:49.002Z"
   },
   {
    "duration": 11,
    "start_time": "2023-12-15T18:27:24.221Z"
   },
   {
    "duration": 16,
    "start_time": "2023-12-15T18:27:35.243Z"
   },
   {
    "duration": 18,
    "start_time": "2023-12-15T18:27:56.239Z"
   },
   {
    "duration": 18,
    "start_time": "2023-12-15T18:31:03.495Z"
   },
   {
    "duration": 16,
    "start_time": "2023-12-15T18:31:27.744Z"
   },
   {
    "duration": 1144,
    "start_time": "2023-12-15T18:31:58.590Z"
   },
   {
    "duration": 79,
    "start_time": "2023-12-15T18:31:59.736Z"
   },
   {
    "duration": 12,
    "start_time": "2023-12-15T18:31:59.816Z"
   },
   {
    "duration": 19,
    "start_time": "2023-12-15T18:31:59.829Z"
   },
   {
    "duration": 16,
    "start_time": "2023-12-15T18:31:59.850Z"
   },
   {
    "duration": 39,
    "start_time": "2023-12-15T18:31:59.868Z"
   },
   {
    "duration": 29,
    "start_time": "2023-12-15T18:31:59.909Z"
   },
   {
    "duration": 27,
    "start_time": "2023-12-15T18:31:59.939Z"
   },
   {
    "duration": 33,
    "start_time": "2023-12-15T18:31:59.968Z"
   },
   {
    "duration": 37,
    "start_time": "2023-12-15T18:32:00.002Z"
   },
   {
    "duration": 279,
    "start_time": "2023-12-15T18:32:00.040Z"
   },
   {
    "duration": 14,
    "start_time": "2023-12-15T18:32:00.322Z"
   },
   {
    "duration": 204,
    "start_time": "2023-12-15T18:32:00.337Z"
   },
   {
    "duration": 22,
    "start_time": "2023-12-15T18:32:00.543Z"
   },
   {
    "duration": 1139,
    "start_time": "2023-12-15T18:34:08.599Z"
   },
   {
    "duration": 22,
    "start_time": "2023-12-15T18:35:12.803Z"
   },
   {
    "duration": 1203,
    "start_time": "2023-12-15T18:53:12.974Z"
   },
   {
    "duration": 1185,
    "start_time": "2023-12-15T18:53:37.970Z"
   },
   {
    "duration": 21,
    "start_time": "2023-12-15T18:54:09.741Z"
   },
   {
    "duration": 64,
    "start_time": "2023-12-15T19:08:28.389Z"
   },
   {
    "duration": 1268,
    "start_time": "2023-12-16T13:25:35.964Z"
   },
   {
    "duration": 117,
    "start_time": "2023-12-16T13:25:37.234Z"
   },
   {
    "duration": 11,
    "start_time": "2023-12-16T13:25:37.353Z"
   },
   {
    "duration": 13,
    "start_time": "2023-12-16T13:25:37.366Z"
   },
   {
    "duration": 20,
    "start_time": "2023-12-16T13:25:37.380Z"
   },
   {
    "duration": 9,
    "start_time": "2023-12-16T13:25:37.402Z"
   },
   {
    "duration": 21,
    "start_time": "2023-12-16T13:25:37.412Z"
   },
   {
    "duration": 35,
    "start_time": "2023-12-16T13:25:37.434Z"
   },
   {
    "duration": 12,
    "start_time": "2023-12-16T13:25:37.471Z"
   },
   {
    "duration": 16,
    "start_time": "2023-12-16T13:25:37.485Z"
   },
   {
    "duration": 162,
    "start_time": "2023-12-16T13:25:37.502Z"
   },
   {
    "duration": 12,
    "start_time": "2023-12-16T13:25:37.666Z"
   },
   {
    "duration": 142,
    "start_time": "2023-12-16T13:25:37.679Z"
   },
   {
    "duration": 31,
    "start_time": "2023-12-16T13:25:37.823Z"
   },
   {
    "duration": 423,
    "start_time": "2023-12-16T13:25:37.855Z"
   },
   {
    "duration": 167,
    "start_time": "2023-12-16T13:29:11.528Z"
   },
   {
    "duration": 151,
    "start_time": "2023-12-16T13:29:46.764Z"
   },
   {
    "duration": 194,
    "start_time": "2023-12-16T13:30:47.048Z"
   },
   {
    "duration": 268,
    "start_time": "2023-12-16T13:31:51.279Z"
   },
   {
    "duration": 177,
    "start_time": "2023-12-16T13:32:30.303Z"
   },
   {
    "duration": 318,
    "start_time": "2023-12-16T13:33:31.785Z"
   },
   {
    "duration": 507,
    "start_time": "2023-12-16T13:34:29.562Z"
   },
   {
    "duration": 477,
    "start_time": "2023-12-16T13:35:51.291Z"
   },
   {
    "duration": 77,
    "start_time": "2023-12-16T13:43:07.013Z"
   },
   {
    "duration": 475,
    "start_time": "2023-12-16T13:43:30.733Z"
   },
   {
    "duration": 135,
    "start_time": "2023-12-16T13:44:05.584Z"
   },
   {
    "duration": 158,
    "start_time": "2023-12-16T13:45:26.564Z"
   },
   {
    "duration": 185,
    "start_time": "2023-12-16T13:51:06.307Z"
   },
   {
    "duration": 175,
    "start_time": "2023-12-16T13:52:41.325Z"
   },
   {
    "duration": 203,
    "start_time": "2023-12-16T13:53:06.869Z"
   },
   {
    "duration": 183,
    "start_time": "2023-12-16T13:53:15.984Z"
   },
   {
    "duration": 1221,
    "start_time": "2023-12-16T13:53:26.730Z"
   },
   {
    "duration": 79,
    "start_time": "2023-12-16T13:53:27.953Z"
   },
   {
    "duration": 11,
    "start_time": "2023-12-16T13:53:28.034Z"
   },
   {
    "duration": 15,
    "start_time": "2023-12-16T13:53:28.047Z"
   },
   {
    "duration": 16,
    "start_time": "2023-12-16T13:53:28.064Z"
   },
   {
    "duration": 9,
    "start_time": "2023-12-16T13:53:28.081Z"
   },
   {
    "duration": 14,
    "start_time": "2023-12-16T13:53:28.091Z"
   },
   {
    "duration": 21,
    "start_time": "2023-12-16T13:53:28.106Z"
   },
   {
    "duration": 38,
    "start_time": "2023-12-16T13:53:28.128Z"
   },
   {
    "duration": 7,
    "start_time": "2023-12-16T13:53:28.167Z"
   },
   {
    "duration": 162,
    "start_time": "2023-12-16T13:53:28.175Z"
   },
   {
    "duration": 19,
    "start_time": "2023-12-16T13:53:28.339Z"
   },
   {
    "duration": 139,
    "start_time": "2023-12-16T13:53:28.359Z"
   },
   {
    "duration": 21,
    "start_time": "2023-12-16T13:53:28.500Z"
   },
   {
    "duration": 189,
    "start_time": "2023-12-16T13:53:28.522Z"
   },
   {
    "duration": 513,
    "start_time": "2023-12-16T13:53:28.713Z"
   },
   {
    "duration": 185,
    "start_time": "2023-12-16T13:54:37.325Z"
   },
   {
    "duration": 182,
    "start_time": "2023-12-16T13:56:45.970Z"
   },
   {
    "duration": 288,
    "start_time": "2023-12-16T13:57:29.671Z"
   },
   {
    "duration": 127,
    "start_time": "2023-12-16T13:58:18.765Z"
   },
   {
    "duration": 193,
    "start_time": "2023-12-16T14:03:02.887Z"
   },
   {
    "duration": 203,
    "start_time": "2023-12-16T14:04:00.229Z"
   },
   {
    "duration": 202,
    "start_time": "2023-12-16T14:07:56.617Z"
   },
   {
    "duration": 265,
    "start_time": "2023-12-16T14:08:26.580Z"
   },
   {
    "duration": 159,
    "start_time": "2023-12-16T14:10:04.406Z"
   },
   {
    "duration": 15,
    "start_time": "2023-12-16T14:10:39.131Z"
   },
   {
    "duration": 195,
    "start_time": "2023-12-16T14:11:37.482Z"
   },
   {
    "duration": 192,
    "start_time": "2023-12-16T14:12:10.779Z"
   },
   {
    "duration": 193,
    "start_time": "2023-12-16T14:12:44.387Z"
   },
   {
    "duration": 1094,
    "start_time": "2023-12-16T14:13:03.834Z"
   },
   {
    "duration": 72,
    "start_time": "2023-12-16T14:13:04.930Z"
   },
   {
    "duration": 10,
    "start_time": "2023-12-16T14:13:05.003Z"
   },
   {
    "duration": 21,
    "start_time": "2023-12-16T14:13:05.014Z"
   },
   {
    "duration": 27,
    "start_time": "2023-12-16T14:13:05.037Z"
   },
   {
    "duration": 10,
    "start_time": "2023-12-16T14:13:05.065Z"
   },
   {
    "duration": 15,
    "start_time": "2023-12-16T14:13:05.077Z"
   },
   {
    "duration": 45,
    "start_time": "2023-12-16T14:13:05.094Z"
   },
   {
    "duration": 17,
    "start_time": "2023-12-16T14:13:05.141Z"
   },
   {
    "duration": 13,
    "start_time": "2023-12-16T14:13:05.160Z"
   },
   {
    "duration": 159,
    "start_time": "2023-12-16T14:13:05.175Z"
   },
   {
    "duration": 20,
    "start_time": "2023-12-16T14:13:05.336Z"
   },
   {
    "duration": 140,
    "start_time": "2023-12-16T14:13:05.358Z"
   },
   {
    "duration": 22,
    "start_time": "2023-12-16T14:13:05.501Z"
   },
   {
    "duration": 218,
    "start_time": "2023-12-16T14:13:05.525Z"
   },
   {
    "duration": 1133,
    "start_time": "2023-12-16T14:19:55.637Z"
   },
   {
    "duration": 78,
    "start_time": "2023-12-16T14:19:56.772Z"
   },
   {
    "duration": 11,
    "start_time": "2023-12-16T14:19:56.851Z"
   },
   {
    "duration": 31,
    "start_time": "2023-12-16T14:19:56.864Z"
   },
   {
    "duration": 24,
    "start_time": "2023-12-16T14:19:56.897Z"
   },
   {
    "duration": 36,
    "start_time": "2023-12-16T14:19:56.922Z"
   },
   {
    "duration": 16,
    "start_time": "2023-12-16T14:19:56.960Z"
   },
   {
    "duration": 32,
    "start_time": "2023-12-16T14:19:56.978Z"
   },
   {
    "duration": 14,
    "start_time": "2023-12-16T14:19:57.011Z"
   },
   {
    "duration": 8,
    "start_time": "2023-12-16T14:19:57.027Z"
   },
   {
    "duration": 168,
    "start_time": "2023-12-16T14:19:57.051Z"
   },
   {
    "duration": 7,
    "start_time": "2023-12-16T14:19:57.220Z"
   },
   {
    "duration": 25,
    "start_time": "2023-12-16T14:19:57.228Z"
   },
   {
    "duration": 161,
    "start_time": "2023-12-16T14:19:57.254Z"
   },
   {
    "duration": 22,
    "start_time": "2023-12-16T14:19:57.417Z"
   },
   {
    "duration": 262,
    "start_time": "2023-12-16T14:19:57.452Z"
   },
   {
    "duration": 217,
    "start_time": "2023-12-16T14:20:56.697Z"
   },
   {
    "duration": 5,
    "start_time": "2023-12-16T14:22:05.832Z"
   },
   {
    "duration": 12,
    "start_time": "2023-12-16T14:22:09.674Z"
   },
   {
    "duration": 140,
    "start_time": "2023-12-16T14:22:31.385Z"
   },
   {
    "duration": 16,
    "start_time": "2023-12-16T14:22:38.781Z"
   },
   {
    "duration": 234,
    "start_time": "2023-12-16T14:22:43.193Z"
   },
   {
    "duration": 6,
    "start_time": "2023-12-16T14:23:14.628Z"
   },
   {
    "duration": 13,
    "start_time": "2023-12-16T14:23:18.436Z"
   },
   {
    "duration": 135,
    "start_time": "2023-12-16T14:23:30.301Z"
   },
   {
    "duration": 205,
    "start_time": "2023-12-16T14:25:35.595Z"
   },
   {
    "duration": 1060,
    "start_time": "2023-12-16T14:26:01.409Z"
   },
   {
    "duration": 78,
    "start_time": "2023-12-16T14:26:02.471Z"
   },
   {
    "duration": 10,
    "start_time": "2023-12-16T14:26:02.551Z"
   },
   {
    "duration": 46,
    "start_time": "2023-12-16T14:26:02.562Z"
   },
   {
    "duration": 45,
    "start_time": "2023-12-16T14:26:02.610Z"
   },
   {
    "duration": 39,
    "start_time": "2023-12-16T14:26:02.657Z"
   },
   {
    "duration": 15,
    "start_time": "2023-12-16T14:26:02.697Z"
   },
   {
    "duration": 54,
    "start_time": "2023-12-16T14:26:02.713Z"
   },
   {
    "duration": 20,
    "start_time": "2023-12-16T14:26:02.768Z"
   },
   {
    "duration": 13,
    "start_time": "2023-12-16T14:26:02.789Z"
   },
   {
    "duration": 179,
    "start_time": "2023-12-16T14:26:02.804Z"
   },
   {
    "duration": 6,
    "start_time": "2023-12-16T14:26:02.985Z"
   },
   {
    "duration": 28,
    "start_time": "2023-12-16T14:26:02.992Z"
   },
   {
    "duration": 151,
    "start_time": "2023-12-16T14:26:03.023Z"
   },
   {
    "duration": 23,
    "start_time": "2023-12-16T14:26:03.176Z"
   },
   {
    "duration": 247,
    "start_time": "2023-12-16T14:26:03.200Z"
   },
   {
    "duration": 249,
    "start_time": "2023-12-16T14:28:32.769Z"
   },
   {
    "duration": 221,
    "start_time": "2023-12-16T14:29:33.121Z"
   },
   {
    "duration": 205,
    "start_time": "2023-12-16T14:30:09.696Z"
   },
   {
    "duration": 166,
    "start_time": "2023-12-16T14:37:01.533Z"
   },
   {
    "duration": 161,
    "start_time": "2023-12-16T14:37:23.715Z"
   },
   {
    "duration": 15,
    "start_time": "2023-12-16T16:42:02.596Z"
   },
   {
    "duration": 142,
    "start_time": "2023-12-16T16:46:03.393Z"
   },
   {
    "duration": 87,
    "start_time": "2023-12-16T16:46:45.843Z"
   },
   {
    "duration": 312,
    "start_time": "2023-12-16T16:47:44.907Z"
   },
   {
    "duration": 390,
    "start_time": "2023-12-16T16:50:11.546Z"
   },
   {
    "duration": 370,
    "start_time": "2023-12-16T16:51:24.686Z"
   },
   {
    "duration": 393,
    "start_time": "2023-12-16T16:52:29.147Z"
   },
   {
    "duration": 386,
    "start_time": "2023-12-16T16:53:31.546Z"
   },
   {
    "duration": 486,
    "start_time": "2023-12-16T16:54:05.128Z"
   },
   {
    "duration": 369,
    "start_time": "2023-12-16T16:55:03.651Z"
   },
   {
    "duration": 328,
    "start_time": "2023-12-16T16:55:28.216Z"
   },
   {
    "duration": 221,
    "start_time": "2023-12-16T17:03:45.542Z"
   },
   {
    "duration": 223,
    "start_time": "2023-12-16T17:04:52.167Z"
   },
   {
    "duration": 227,
    "start_time": "2023-12-16T17:06:33.726Z"
   },
   {
    "duration": 295,
    "start_time": "2023-12-16T17:06:45.918Z"
   },
   {
    "duration": 202,
    "start_time": "2023-12-16T17:07:13.275Z"
   },
   {
    "duration": 187,
    "start_time": "2023-12-16T17:08:25.925Z"
   },
   {
    "duration": 44,
    "start_time": "2023-12-16T18:59:41.069Z"
   },
   {
    "duration": 1290,
    "start_time": "2023-12-16T18:59:49.303Z"
   },
   {
    "duration": 211,
    "start_time": "2023-12-16T18:59:50.595Z"
   },
   {
    "duration": 11,
    "start_time": "2023-12-16T18:59:50.807Z"
   },
   {
    "duration": 11,
    "start_time": "2023-12-16T18:59:50.821Z"
   },
   {
    "duration": 39,
    "start_time": "2023-12-16T18:59:50.833Z"
   },
   {
    "duration": 11,
    "start_time": "2023-12-16T18:59:50.873Z"
   },
   {
    "duration": 58,
    "start_time": "2023-12-16T18:59:50.885Z"
   },
   {
    "duration": 35,
    "start_time": "2023-12-16T18:59:50.944Z"
   },
   {
    "duration": 18,
    "start_time": "2023-12-16T18:59:50.980Z"
   },
   {
    "duration": 23,
    "start_time": "2023-12-16T18:59:51.000Z"
   },
   {
    "duration": 154,
    "start_time": "2023-12-16T18:59:51.024Z"
   },
   {
    "duration": 6,
    "start_time": "2023-12-16T18:59:51.180Z"
   },
   {
    "duration": 30,
    "start_time": "2023-12-16T18:59:51.187Z"
   },
   {
    "duration": 144,
    "start_time": "2023-12-16T18:59:51.218Z"
   },
   {
    "duration": 20,
    "start_time": "2023-12-16T18:59:51.363Z"
   },
   {
    "duration": 221,
    "start_time": "2023-12-16T18:59:51.384Z"
   },
   {
    "duration": 88,
    "start_time": "2023-12-16T18:59:51.606Z"
   },
   {
    "duration": 0,
    "start_time": "2023-12-16T18:59:51.698Z"
   },
   {
    "duration": 0,
    "start_time": "2023-12-16T18:59:51.700Z"
   },
   {
    "duration": 1044,
    "start_time": "2023-12-16T19:00:03.424Z"
   },
   {
    "duration": 79,
    "start_time": "2023-12-16T19:00:04.470Z"
   },
   {
    "duration": 14,
    "start_time": "2023-12-16T19:00:04.551Z"
   },
   {
    "duration": 22,
    "start_time": "2023-12-16T19:00:04.567Z"
   },
   {
    "duration": 25,
    "start_time": "2023-12-16T19:00:04.590Z"
   },
   {
    "duration": 10,
    "start_time": "2023-12-16T19:00:04.617Z"
   },
   {
    "duration": 14,
    "start_time": "2023-12-16T19:00:04.629Z"
   },
   {
    "duration": 62,
    "start_time": "2023-12-16T19:00:04.645Z"
   },
   {
    "duration": 14,
    "start_time": "2023-12-16T19:00:04.708Z"
   },
   {
    "duration": 35,
    "start_time": "2023-12-16T19:00:04.725Z"
   },
   {
    "duration": 168,
    "start_time": "2023-12-16T19:00:04.763Z"
   },
   {
    "duration": 8,
    "start_time": "2023-12-16T19:00:04.932Z"
   },
   {
    "duration": 38,
    "start_time": "2023-12-16T19:00:04.942Z"
   },
   {
    "duration": 252,
    "start_time": "2023-12-16T19:00:04.982Z"
   },
   {
    "duration": 23,
    "start_time": "2023-12-16T19:00:05.236Z"
   },
   {
    "duration": 404,
    "start_time": "2023-12-16T19:00:05.261Z"
   },
   {
    "duration": 138,
    "start_time": "2023-12-16T19:00:05.667Z"
   },
   {
    "duration": 0,
    "start_time": "2023-12-16T19:00:05.806Z"
   },
   {
    "duration": 0,
    "start_time": "2023-12-16T19:00:05.807Z"
   },
   {
    "duration": 360,
    "start_time": "2023-12-16T19:01:10.071Z"
   },
   {
    "duration": 386,
    "start_time": "2023-12-16T19:02:13.053Z"
   },
   {
    "duration": 270,
    "start_time": "2023-12-16T19:02:26.431Z"
   },
   {
    "duration": 413,
    "start_time": "2023-12-16T19:22:38.465Z"
   },
   {
    "duration": 1161,
    "start_time": "2023-12-16T19:35:00.174Z"
   },
   {
    "duration": 85,
    "start_time": "2023-12-16T19:35:01.340Z"
   },
   {
    "duration": 16,
    "start_time": "2023-12-16T19:35:01.429Z"
   },
   {
    "duration": 79,
    "start_time": "2023-12-16T19:35:01.448Z"
   },
   {
    "duration": 29,
    "start_time": "2023-12-16T19:35:01.529Z"
   },
   {
    "duration": 43,
    "start_time": "2023-12-16T19:35:01.559Z"
   },
   {
    "duration": 70,
    "start_time": "2023-12-16T19:35:01.604Z"
   },
   {
    "duration": 94,
    "start_time": "2023-12-16T19:35:01.676Z"
   },
   {
    "duration": 69,
    "start_time": "2023-12-16T19:35:01.772Z"
   },
   {
    "duration": 70,
    "start_time": "2023-12-16T19:35:01.843Z"
   },
   {
    "duration": 273,
    "start_time": "2023-12-16T19:35:01.922Z"
   },
   {
    "duration": 20,
    "start_time": "2023-12-16T19:35:02.196Z"
   },
   {
    "duration": 48,
    "start_time": "2023-12-16T19:35:02.220Z"
   },
   {
    "duration": 167,
    "start_time": "2023-12-16T19:35:02.269Z"
   },
   {
    "duration": 28,
    "start_time": "2023-12-16T19:35:02.439Z"
   },
   {
    "duration": 285,
    "start_time": "2023-12-16T19:35:02.468Z"
   },
   {
    "duration": 455,
    "start_time": "2023-12-16T19:35:02.755Z"
   },
   {
    "duration": 250,
    "start_time": "2023-12-16T19:35:03.211Z"
   },
   {
    "duration": 470,
    "start_time": "2023-12-16T19:36:51.283Z"
   },
   {
    "duration": 409,
    "start_time": "2023-12-16T19:37:08.676Z"
   },
   {
    "duration": 2597,
    "start_time": "2023-12-16T19:41:27.538Z"
   },
   {
    "duration": 857,
    "start_time": "2023-12-16T19:43:55.898Z"
   },
   {
    "duration": 329,
    "start_time": "2023-12-16T19:44:42.105Z"
   },
   {
    "duration": 224,
    "start_time": "2023-12-16T19:45:50.046Z"
   },
   {
    "duration": 358,
    "start_time": "2023-12-16T19:47:21.191Z"
   },
   {
    "duration": 358,
    "start_time": "2023-12-16T19:48:36.179Z"
   },
   {
    "duration": 62,
    "start_time": "2023-12-16T19:52:01.656Z"
   },
   {
    "duration": 13,
    "start_time": "2023-12-16T19:52:19.983Z"
   },
   {
    "duration": 113,
    "start_time": "2023-12-16T19:52:47.550Z"
   },
   {
    "duration": 128,
    "start_time": "2023-12-16T19:53:05.264Z"
   },
   {
    "duration": 390,
    "start_time": "2023-12-16T19:53:22.658Z"
   },
   {
    "duration": 105,
    "start_time": "2023-12-16T19:55:47.753Z"
   },
   {
    "duration": 419,
    "start_time": "2023-12-16T19:58:28.838Z"
   },
   {
    "duration": 363,
    "start_time": "2023-12-16T20:00:17.811Z"
   },
   {
    "duration": 372,
    "start_time": "2023-12-16T20:00:38.905Z"
   },
   {
    "duration": 348,
    "start_time": "2023-12-16T20:05:08.018Z"
   },
   {
    "duration": 359,
    "start_time": "2023-12-16T20:05:53.562Z"
   },
   {
    "duration": 473,
    "start_time": "2023-12-16T20:07:23.577Z"
   },
   {
    "duration": 113,
    "start_time": "2023-12-16T20:13:12.614Z"
   },
   {
    "duration": 107,
    "start_time": "2023-12-16T20:13:40.761Z"
   },
   {
    "duration": 346,
    "start_time": "2023-12-16T20:13:56.173Z"
   },
   {
    "duration": 1048,
    "start_time": "2023-12-16T20:18:17.330Z"
   },
   {
    "duration": 78,
    "start_time": "2023-12-16T20:18:18.380Z"
   },
   {
    "duration": 10,
    "start_time": "2023-12-16T20:18:18.460Z"
   },
   {
    "duration": 10,
    "start_time": "2023-12-16T20:18:18.471Z"
   },
   {
    "duration": 25,
    "start_time": "2023-12-16T20:18:18.482Z"
   },
   {
    "duration": 9,
    "start_time": "2023-12-16T20:18:18.508Z"
   },
   {
    "duration": 14,
    "start_time": "2023-12-16T20:18:18.518Z"
   },
   {
    "duration": 24,
    "start_time": "2023-12-16T20:18:18.533Z"
   },
   {
    "duration": 13,
    "start_time": "2023-12-16T20:18:18.559Z"
   },
   {
    "duration": 8,
    "start_time": "2023-12-16T20:18:18.599Z"
   },
   {
    "duration": 169,
    "start_time": "2023-12-16T20:18:18.608Z"
   },
   {
    "duration": 7,
    "start_time": "2023-12-16T20:18:18.778Z"
   },
   {
    "duration": 23,
    "start_time": "2023-12-16T20:18:18.786Z"
   },
   {
    "duration": 141,
    "start_time": "2023-12-16T20:18:18.813Z"
   },
   {
    "duration": 19,
    "start_time": "2023-12-16T20:18:18.956Z"
   },
   {
    "duration": 232,
    "start_time": "2023-12-16T20:18:18.977Z"
   },
   {
    "duration": 389,
    "start_time": "2023-12-16T20:18:19.210Z"
   },
   {
    "duration": 228,
    "start_time": "2023-12-16T20:18:19.600Z"
   },
   {
    "duration": 236,
    "start_time": "2023-12-16T20:18:19.830Z"
   },
   {
    "duration": 319,
    "start_time": "2023-12-16T20:18:20.068Z"
   },
   {
    "duration": 257,
    "start_time": "2023-12-16T20:19:43.625Z"
   },
   {
    "duration": 182,
    "start_time": "2023-12-16T20:20:44.288Z"
   },
   {
    "duration": 103,
    "start_time": "2023-12-16T20:21:15.162Z"
   },
   {
    "duration": 112,
    "start_time": "2023-12-16T20:21:30.188Z"
   },
   {
    "duration": 255,
    "start_time": "2023-12-16T20:21:30.411Z"
   },
   {
    "duration": 98,
    "start_time": "2023-12-16T20:21:39.479Z"
   },
   {
    "duration": 105,
    "start_time": "2023-12-16T20:21:57.615Z"
   },
   {
    "duration": 98,
    "start_time": "2023-12-16T20:23:32.184Z"
   },
   {
    "duration": 98,
    "start_time": "2023-12-16T20:24:04.652Z"
   },
   {
    "duration": 102,
    "start_time": "2023-12-16T20:24:17.860Z"
   },
   {
    "duration": 162,
    "start_time": "2023-12-16T20:24:25.989Z"
   },
   {
    "duration": 259,
    "start_time": "2023-12-16T20:25:38.429Z"
   },
   {
    "duration": 284,
    "start_time": "2023-12-16T20:26:17.465Z"
   },
   {
    "duration": 15,
    "start_time": "2023-12-16T20:27:39.310Z"
   },
   {
    "duration": 115,
    "start_time": "2023-12-16T20:28:43.535Z"
   },
   {
    "duration": 299,
    "start_time": "2023-12-16T20:29:28.901Z"
   },
   {
    "duration": 294,
    "start_time": "2023-12-16T20:30:10.357Z"
   },
   {
    "duration": 104,
    "start_time": "2023-12-16T20:31:03.221Z"
   },
   {
    "duration": 317,
    "start_time": "2023-12-16T20:31:32.029Z"
   },
   {
    "duration": 404,
    "start_time": "2023-12-16T20:32:06.312Z"
   },
   {
    "duration": 289,
    "start_time": "2023-12-16T20:32:20.087Z"
   },
   {
    "duration": 332,
    "start_time": "2023-12-16T20:32:50.456Z"
   },
   {
    "duration": 275,
    "start_time": "2023-12-16T20:33:35.164Z"
   },
   {
    "duration": 16,
    "start_time": "2023-12-16T20:38:07.445Z"
   },
   {
    "duration": 13,
    "start_time": "2023-12-16T20:38:39.763Z"
   },
   {
    "duration": 161,
    "start_time": "2023-12-16T20:40:23.155Z"
   },
   {
    "duration": 173,
    "start_time": "2023-12-16T20:41:03.102Z"
   },
   {
    "duration": 45,
    "start_time": "2023-12-16T20:43:12.242Z"
   },
   {
    "duration": 24,
    "start_time": "2023-12-16T21:04:24.049Z"
   },
   {
    "duration": 114,
    "start_time": "2023-12-16T21:04:40.312Z"
   },
   {
    "duration": 106,
    "start_time": "2023-12-16T21:05:29.467Z"
   },
   {
    "duration": 14,
    "start_time": "2023-12-16T21:06:08.579Z"
   },
   {
    "duration": 1109,
    "start_time": "2023-12-16T21:07:43.986Z"
   },
   {
    "duration": 78,
    "start_time": "2023-12-16T21:07:45.096Z"
   },
   {
    "duration": 11,
    "start_time": "2023-12-16T21:07:45.175Z"
   },
   {
    "duration": 9,
    "start_time": "2023-12-16T21:07:45.187Z"
   },
   {
    "duration": 18,
    "start_time": "2023-12-16T21:07:45.197Z"
   },
   {
    "duration": 9,
    "start_time": "2023-12-16T21:07:45.216Z"
   },
   {
    "duration": 29,
    "start_time": "2023-12-16T21:07:45.226Z"
   },
   {
    "duration": 19,
    "start_time": "2023-12-16T21:07:45.256Z"
   },
   {
    "duration": 23,
    "start_time": "2023-12-16T21:07:45.276Z"
   },
   {
    "duration": 9,
    "start_time": "2023-12-16T21:07:45.301Z"
   },
   {
    "duration": 189,
    "start_time": "2023-12-16T21:07:45.311Z"
   },
   {
    "duration": 6,
    "start_time": "2023-12-16T21:07:45.502Z"
   },
   {
    "duration": 14,
    "start_time": "2023-12-16T21:07:45.509Z"
   },
   {
    "duration": 139,
    "start_time": "2023-12-16T21:07:45.525Z"
   },
   {
    "duration": 22,
    "start_time": "2023-12-16T21:07:45.665Z"
   },
   {
    "duration": 216,
    "start_time": "2023-12-16T21:07:45.709Z"
   },
   {
    "duration": 379,
    "start_time": "2023-12-16T21:07:45.927Z"
   },
   {
    "duration": 200,
    "start_time": "2023-12-16T21:07:46.308Z"
   },
   {
    "duration": 404,
    "start_time": "2023-12-16T21:07:46.509Z"
   },
   {
    "duration": 46,
    "start_time": "2023-12-16T21:07:46.914Z"
   },
   {
    "duration": 183,
    "start_time": "2023-12-16T21:07:46.962Z"
   },
   {
    "duration": 13,
    "start_time": "2023-12-16T21:07:47.147Z"
   },
   {
    "duration": 193,
    "start_time": "2023-12-16T21:07:47.161Z"
   },
   {
    "duration": 15,
    "start_time": "2023-12-16T21:08:24.239Z"
   },
   {
    "duration": 13,
    "start_time": "2023-12-16T21:09:13.413Z"
   },
   {
    "duration": 101,
    "start_time": "2023-12-16T21:09:24.513Z"
   },
   {
    "duration": 90,
    "start_time": "2023-12-16T21:10:14.646Z"
   },
   {
    "duration": 581,
    "start_time": "2023-12-16T21:10:59.899Z"
   },
   {
    "duration": 97,
    "start_time": "2023-12-16T21:11:31.975Z"
   },
   {
    "duration": 100,
    "start_time": "2023-12-16T21:12:16.218Z"
   },
   {
    "duration": 107,
    "start_time": "2023-12-16T21:16:26.546Z"
   },
   {
    "duration": 14,
    "start_time": "2023-12-16T21:16:46.412Z"
   },
   {
    "duration": 104,
    "start_time": "2023-12-16T21:16:59.960Z"
   },
   {
    "duration": 18,
    "start_time": "2023-12-16T21:18:12.233Z"
   },
   {
    "duration": 10,
    "start_time": "2023-12-16T21:18:36.724Z"
   },
   {
    "duration": 10,
    "start_time": "2023-12-16T21:18:58.218Z"
   },
   {
    "duration": 93,
    "start_time": "2023-12-16T21:19:10.413Z"
   },
   {
    "duration": 15,
    "start_time": "2023-12-16T21:20:45.275Z"
   },
   {
    "duration": 555,
    "start_time": "2023-12-16T21:20:55.454Z"
   },
   {
    "duration": 516,
    "start_time": "2023-12-16T21:21:10.353Z"
   },
   {
    "duration": 93,
    "start_time": "2023-12-16T21:21:38.836Z"
   },
   {
    "duration": 15,
    "start_time": "2023-12-16T21:22:13.476Z"
   },
   {
    "duration": 95,
    "start_time": "2023-12-16T21:22:26.687Z"
   },
   {
    "duration": 10,
    "start_time": "2023-12-16T21:22:46.194Z"
   },
   {
    "duration": 9,
    "start_time": "2023-12-16T21:23:03.026Z"
   },
   {
    "duration": 452,
    "start_time": "2023-12-16T21:23:32.186Z"
   },
   {
    "duration": 92,
    "start_time": "2023-12-16T21:28:46.310Z"
   },
   {
    "duration": 13,
    "start_time": "2023-12-16T21:29:05.562Z"
   },
   {
    "duration": 90,
    "start_time": "2023-12-16T21:29:15.159Z"
   },
   {
    "duration": 22,
    "start_time": "2023-12-16T21:31:38.789Z"
   },
   {
    "duration": 19,
    "start_time": "2023-12-16T21:32:18.407Z"
   },
   {
    "duration": 95,
    "start_time": "2023-12-16T21:33:00.130Z"
   },
   {
    "duration": 90,
    "start_time": "2023-12-16T21:33:23.796Z"
   },
   {
    "duration": 123,
    "start_time": "2023-12-16T21:34:04.266Z"
   },
   {
    "duration": 198,
    "start_time": "2023-12-16T21:34:17.183Z"
   },
   {
    "duration": 123,
    "start_time": "2023-12-16T21:34:28.552Z"
   },
   {
    "duration": 121,
    "start_time": "2023-12-16T21:34:53.833Z"
   },
   {
    "duration": 124,
    "start_time": "2023-12-16T21:35:51.935Z"
   },
   {
    "duration": 389,
    "start_time": "2023-12-16T21:38:53.262Z"
   },
   {
    "duration": 359,
    "start_time": "2023-12-16T21:42:18.940Z"
   },
   {
    "duration": 371,
    "start_time": "2023-12-16T21:43:38.263Z"
   },
   {
    "duration": 451,
    "start_time": "2023-12-16T21:43:54.033Z"
   },
   {
    "duration": 20,
    "start_time": "2023-12-16T21:44:39.905Z"
   },
   {
    "duration": 369,
    "start_time": "2023-12-16T21:45:17.391Z"
   },
   {
    "duration": 393,
    "start_time": "2023-12-16T21:45:27.472Z"
   },
   {
    "duration": 354,
    "start_time": "2023-12-16T21:46:20.493Z"
   },
   {
    "duration": 366,
    "start_time": "2023-12-16T21:46:41.367Z"
   },
   {
    "duration": 482,
    "start_time": "2023-12-16T21:48:21.451Z"
   },
   {
    "duration": 372,
    "start_time": "2023-12-16T21:50:27.700Z"
   },
   {
    "duration": 388,
    "start_time": "2023-12-16T21:51:55.500Z"
   },
   {
    "duration": 20,
    "start_time": "2023-12-16T22:17:23.484Z"
   },
   {
    "duration": 15,
    "start_time": "2023-12-16T22:18:30.569Z"
   },
   {
    "duration": 14,
    "start_time": "2023-12-16T22:18:49.314Z"
   },
   {
    "duration": 374,
    "start_time": "2023-12-16T22:20:06.342Z"
   },
   {
    "duration": 14,
    "start_time": "2023-12-16T22:24:52.984Z"
   },
   {
    "duration": 11,
    "start_time": "2023-12-16T22:25:40.934Z"
   },
   {
    "duration": 9,
    "start_time": "2023-12-16T22:26:51.874Z"
   },
   {
    "duration": 17,
    "start_time": "2023-12-16T22:28:42.452Z"
   },
   {
    "duration": 9,
    "start_time": "2023-12-16T22:29:39.942Z"
   },
   {
    "duration": 13,
    "start_time": "2023-12-16T22:32:10.774Z"
   },
   {
    "duration": 13,
    "start_time": "2023-12-16T22:43:52.816Z"
   },
   {
    "duration": 11,
    "start_time": "2023-12-16T22:49:15.661Z"
   },
   {
    "duration": 1018,
    "start_time": "2023-12-16T22:50:26.457Z"
   },
   {
    "duration": 80,
    "start_time": "2023-12-16T22:50:27.477Z"
   },
   {
    "duration": 11,
    "start_time": "2023-12-16T22:50:27.558Z"
   },
   {
    "duration": 8,
    "start_time": "2023-12-16T22:50:27.571Z"
   },
   {
    "duration": 28,
    "start_time": "2023-12-16T22:50:27.580Z"
   },
   {
    "duration": 10,
    "start_time": "2023-12-16T22:50:27.610Z"
   },
   {
    "duration": 15,
    "start_time": "2023-12-16T22:50:27.621Z"
   },
   {
    "duration": 20,
    "start_time": "2023-12-16T22:50:27.637Z"
   },
   {
    "duration": 13,
    "start_time": "2023-12-16T22:50:27.658Z"
   },
   {
    "duration": 8,
    "start_time": "2023-12-16T22:50:27.698Z"
   },
   {
    "duration": 170,
    "start_time": "2023-12-16T22:50:27.707Z"
   },
   {
    "duration": 6,
    "start_time": "2023-12-16T22:50:27.879Z"
   },
   {
    "duration": 22,
    "start_time": "2023-12-16T22:50:27.886Z"
   },
   {
    "duration": 128,
    "start_time": "2023-12-16T22:50:27.909Z"
   },
   {
    "duration": 21,
    "start_time": "2023-12-16T22:50:28.038Z"
   },
   {
    "duration": 221,
    "start_time": "2023-12-16T22:50:28.060Z"
   },
   {
    "duration": 371,
    "start_time": "2023-12-16T22:50:28.283Z"
   },
   {
    "duration": 210,
    "start_time": "2023-12-16T22:50:28.655Z"
   },
   {
    "duration": 408,
    "start_time": "2023-12-16T22:50:28.866Z"
   },
   {
    "duration": 49,
    "start_time": "2023-12-16T22:50:29.275Z"
   },
   {
    "duration": 163,
    "start_time": "2023-12-16T22:50:29.325Z"
   },
   {
    "duration": 373,
    "start_time": "2023-12-16T22:50:29.490Z"
   },
   {
    "duration": 382,
    "start_time": "2023-12-16T22:50:29.865Z"
   },
   {
    "duration": 391,
    "start_time": "2023-12-16T22:50:30.248Z"
   },
   {
    "duration": 9,
    "start_time": "2023-12-16T22:50:30.641Z"
   },
   {
    "duration": 22,
    "start_time": "2023-12-16T22:50:30.652Z"
   },
   {
    "duration": 9,
    "start_time": "2023-12-16T22:51:28.924Z"
   },
   {
    "duration": 10,
    "start_time": "2023-12-16T22:54:58.209Z"
   },
   {
    "duration": 10,
    "start_time": "2023-12-16T22:55:19.671Z"
   },
   {
    "duration": 9,
    "start_time": "2023-12-16T22:55:24.767Z"
   },
   {
    "duration": 1084,
    "start_time": "2023-12-16T23:04:50.384Z"
   },
   {
    "duration": 75,
    "start_time": "2023-12-16T23:04:51.469Z"
   },
   {
    "duration": 10,
    "start_time": "2023-12-16T23:04:51.546Z"
   },
   {
    "duration": 24,
    "start_time": "2023-12-16T23:04:51.558Z"
   },
   {
    "duration": 29,
    "start_time": "2023-12-16T23:04:51.583Z"
   },
   {
    "duration": 20,
    "start_time": "2023-12-16T23:04:51.614Z"
   },
   {
    "duration": 30,
    "start_time": "2023-12-16T23:04:51.635Z"
   },
   {
    "duration": 36,
    "start_time": "2023-12-16T23:04:51.667Z"
   },
   {
    "duration": 14,
    "start_time": "2023-12-16T23:04:51.705Z"
   },
   {
    "duration": 14,
    "start_time": "2023-12-16T23:04:51.722Z"
   },
   {
    "duration": 178,
    "start_time": "2023-12-16T23:04:51.737Z"
   },
   {
    "duration": 6,
    "start_time": "2023-12-16T23:04:51.917Z"
   },
   {
    "duration": 48,
    "start_time": "2023-12-16T23:04:51.924Z"
   },
   {
    "duration": 128,
    "start_time": "2023-12-16T23:04:51.973Z"
   },
   {
    "duration": 20,
    "start_time": "2023-12-16T23:04:52.103Z"
   },
   {
    "duration": 248,
    "start_time": "2023-12-16T23:04:52.125Z"
   },
   {
    "duration": 394,
    "start_time": "2023-12-16T23:04:52.375Z"
   },
   {
    "duration": 211,
    "start_time": "2023-12-16T23:04:52.771Z"
   },
   {
    "duration": 448,
    "start_time": "2023-12-16T23:04:52.983Z"
   },
   {
    "duration": 53,
    "start_time": "2023-12-16T23:04:53.433Z"
   },
   {
    "duration": 192,
    "start_time": "2023-12-16T23:04:53.488Z"
   },
   {
    "duration": 388,
    "start_time": "2023-12-16T23:04:53.682Z"
   },
   {
    "duration": 377,
    "start_time": "2023-12-16T23:04:54.071Z"
   },
   {
    "duration": 401,
    "start_time": "2023-12-16T23:04:54.449Z"
   },
   {
    "duration": 10,
    "start_time": "2023-12-16T23:04:54.851Z"
   },
   {
    "duration": 17,
    "start_time": "2023-12-16T23:04:54.862Z"
   },
   {
    "duration": 1427,
    "start_time": "2023-12-17T08:32:03.423Z"
   },
   {
    "duration": 212,
    "start_time": "2023-12-17T08:32:04.853Z"
   },
   {
    "duration": 13,
    "start_time": "2023-12-17T08:32:05.066Z"
   },
   {
    "duration": 19,
    "start_time": "2023-12-17T08:32:05.081Z"
   },
   {
    "duration": 37,
    "start_time": "2023-12-17T08:32:05.102Z"
   },
   {
    "duration": 12,
    "start_time": "2023-12-17T08:32:05.141Z"
   },
   {
    "duration": 18,
    "start_time": "2023-12-17T08:32:05.155Z"
   },
   {
    "duration": 58,
    "start_time": "2023-12-17T08:32:05.174Z"
   },
   {
    "duration": 15,
    "start_time": "2023-12-17T08:32:05.233Z"
   },
   {
    "duration": 14,
    "start_time": "2023-12-17T08:32:05.250Z"
   },
   {
    "duration": 200,
    "start_time": "2023-12-17T08:32:05.266Z"
   },
   {
    "duration": 7,
    "start_time": "2023-12-17T08:32:05.468Z"
   },
   {
    "duration": 24,
    "start_time": "2023-12-17T08:32:05.477Z"
   },
   {
    "duration": 174,
    "start_time": "2023-12-17T08:32:05.504Z"
   },
   {
    "duration": 23,
    "start_time": "2023-12-17T08:32:05.680Z"
   },
   {
    "duration": 291,
    "start_time": "2023-12-17T08:32:05.705Z"
   },
   {
    "duration": 592,
    "start_time": "2023-12-17T08:32:05.998Z"
   },
   {
    "duration": 256,
    "start_time": "2023-12-17T08:32:06.592Z"
   },
   {
    "duration": 523,
    "start_time": "2023-12-17T08:32:06.850Z"
   },
   {
    "duration": 69,
    "start_time": "2023-12-17T08:32:07.375Z"
   },
   {
    "duration": 256,
    "start_time": "2023-12-17T08:32:07.446Z"
   },
   {
    "duration": 490,
    "start_time": "2023-12-17T08:32:07.705Z"
   },
   {
    "duration": 480,
    "start_time": "2023-12-17T08:32:08.197Z"
   },
   {
    "duration": 494,
    "start_time": "2023-12-17T08:32:08.679Z"
   },
   {
    "duration": 11,
    "start_time": "2023-12-17T08:32:09.175Z"
   },
   {
    "duration": 16,
    "start_time": "2023-12-17T08:32:09.188Z"
   },
   {
    "duration": 278,
    "start_time": "2023-12-17T08:35:41.094Z"
   },
   {
    "duration": 355,
    "start_time": "2023-12-17T08:35:55.121Z"
   },
   {
    "duration": 425,
    "start_time": "2023-12-17T08:36:36.409Z"
   },
   {
    "duration": 99,
    "start_time": "2023-12-17T08:38:40.476Z"
   },
   {
    "duration": 107,
    "start_time": "2023-12-17T08:40:25.682Z"
   },
   {
    "duration": 402,
    "start_time": "2023-12-17T08:40:42.562Z"
   },
   {
    "duration": 15,
    "start_time": "2023-12-17T08:40:48.311Z"
   },
   {
    "duration": 11,
    "start_time": "2023-12-17T08:42:02.880Z"
   },
   {
    "duration": 9,
    "start_time": "2023-12-17T08:42:41.310Z"
   },
   {
    "duration": 54,
    "start_time": "2023-12-17T08:43:07.876Z"
   },
   {
    "duration": 7,
    "start_time": "2023-12-17T08:43:30.671Z"
   },
   {
    "duration": 4,
    "start_time": "2023-12-17T08:47:34.302Z"
   },
   {
    "duration": 5,
    "start_time": "2023-12-17T08:47:46.858Z"
   },
   {
    "duration": 6,
    "start_time": "2023-12-17T08:48:06.104Z"
   },
   {
    "duration": 6,
    "start_time": "2023-12-17T08:48:17.879Z"
   },
   {
    "duration": 1169,
    "start_time": "2023-12-17T08:48:29.471Z"
   },
   {
    "duration": 89,
    "start_time": "2023-12-17T08:48:30.642Z"
   },
   {
    "duration": 17,
    "start_time": "2023-12-17T08:48:30.733Z"
   },
   {
    "duration": 51,
    "start_time": "2023-12-17T08:48:30.754Z"
   },
   {
    "duration": 39,
    "start_time": "2023-12-17T08:48:30.807Z"
   },
   {
    "duration": 41,
    "start_time": "2023-12-17T08:48:30.847Z"
   },
   {
    "duration": 31,
    "start_time": "2023-12-17T08:48:30.890Z"
   },
   {
    "duration": 57,
    "start_time": "2023-12-17T08:48:30.923Z"
   },
   {
    "duration": 31,
    "start_time": "2023-12-17T08:48:30.982Z"
   },
   {
    "duration": 27,
    "start_time": "2023-12-17T08:48:31.016Z"
   },
   {
    "duration": 253,
    "start_time": "2023-12-17T08:48:31.045Z"
   },
   {
    "duration": 19,
    "start_time": "2023-12-17T08:48:31.300Z"
   },
   {
    "duration": 103,
    "start_time": "2023-12-17T08:48:31.321Z"
   },
   {
    "duration": 306,
    "start_time": "2023-12-17T08:48:31.426Z"
   },
   {
    "duration": 39,
    "start_time": "2023-12-17T08:48:31.734Z"
   },
   {
    "duration": 381,
    "start_time": "2023-12-17T08:48:31.775Z"
   },
   {
    "duration": 504,
    "start_time": "2023-12-17T08:48:32.158Z"
   },
   {
    "duration": 260,
    "start_time": "2023-12-17T08:48:32.664Z"
   },
   {
    "duration": 7,
    "start_time": "2023-12-17T08:48:32.930Z"
   },
   {
    "duration": 131,
    "start_time": "2023-12-17T08:48:32.938Z"
   },
   {
    "duration": 526,
    "start_time": "2023-12-17T08:48:33.071Z"
   },
   {
    "duration": 68,
    "start_time": "2023-12-17T08:48:33.599Z"
   },
   {
    "duration": 241,
    "start_time": "2023-12-17T08:48:33.668Z"
   },
   {
    "duration": 503,
    "start_time": "2023-12-17T08:48:33.911Z"
   },
   {
    "duration": 496,
    "start_time": "2023-12-17T08:48:34.417Z"
   },
   {
    "duration": 503,
    "start_time": "2023-12-17T08:48:34.915Z"
   },
   {
    "duration": 17,
    "start_time": "2023-12-17T08:48:35.421Z"
   },
   {
    "duration": 38,
    "start_time": "2023-12-17T08:48:35.441Z"
   },
   {
    "duration": 112,
    "start_time": "2023-12-17T08:49:18.093Z"
   },
   {
    "duration": 6,
    "start_time": "2023-12-17T08:50:45.299Z"
   },
   {
    "duration": 1240,
    "start_time": "2023-12-17T08:51:07.909Z"
   },
   {
    "duration": 82,
    "start_time": "2023-12-17T08:51:09.151Z"
   },
   {
    "duration": 13,
    "start_time": "2023-12-17T08:51:09.234Z"
   },
   {
    "duration": 19,
    "start_time": "2023-12-17T08:51:09.248Z"
   },
   {
    "duration": 19,
    "start_time": "2023-12-17T08:51:09.269Z"
   },
   {
    "duration": 47,
    "start_time": "2023-12-17T08:51:09.289Z"
   },
   {
    "duration": 17,
    "start_time": "2023-12-17T08:51:09.337Z"
   },
   {
    "duration": 33,
    "start_time": "2023-12-17T08:51:09.356Z"
   },
   {
    "duration": 15,
    "start_time": "2023-12-17T08:51:09.391Z"
   },
   {
    "duration": 29,
    "start_time": "2023-12-17T08:51:09.407Z"
   },
   {
    "duration": 194,
    "start_time": "2023-12-17T08:51:09.438Z"
   },
   {
    "duration": 7,
    "start_time": "2023-12-17T08:51:09.634Z"
   },
   {
    "duration": 38,
    "start_time": "2023-12-17T08:51:09.642Z"
   },
   {
    "duration": 158,
    "start_time": "2023-12-17T08:51:09.683Z"
   },
   {
    "duration": 25,
    "start_time": "2023-12-17T08:51:09.843Z"
   },
   {
    "duration": 266,
    "start_time": "2023-12-17T08:51:09.870Z"
   },
   {
    "duration": 461,
    "start_time": "2023-12-17T08:51:10.138Z"
   },
   {
    "duration": 251,
    "start_time": "2023-12-17T08:51:10.600Z"
   },
   {
    "duration": 4,
    "start_time": "2023-12-17T08:51:10.853Z"
   },
   {
    "duration": 130,
    "start_time": "2023-12-17T08:51:10.859Z"
   },
   {
    "duration": 534,
    "start_time": "2023-12-17T08:51:10.991Z"
   },
   {
    "duration": 61,
    "start_time": "2023-12-17T08:51:11.530Z"
   },
   {
    "duration": 248,
    "start_time": "2023-12-17T08:51:11.593Z"
   },
   {
    "duration": 475,
    "start_time": "2023-12-17T08:51:11.843Z"
   },
   {
    "duration": 478,
    "start_time": "2023-12-17T08:51:12.320Z"
   },
   {
    "duration": 462,
    "start_time": "2023-12-17T08:51:12.800Z"
   },
   {
    "duration": 10,
    "start_time": "2023-12-17T08:51:13.264Z"
   },
   {
    "duration": 11,
    "start_time": "2023-12-17T08:51:13.276Z"
   },
   {
    "duration": 50,
    "start_time": "2023-12-17T09:40:11.209Z"
   },
   {
    "duration": 1394,
    "start_time": "2023-12-17T16:26:28.445Z"
   },
   {
    "duration": 122,
    "start_time": "2023-12-17T16:26:29.841Z"
   },
   {
    "duration": 12,
    "start_time": "2023-12-17T16:26:29.965Z"
   },
   {
    "duration": 15,
    "start_time": "2023-12-17T16:26:29.980Z"
   },
   {
    "duration": 28,
    "start_time": "2023-12-17T16:26:29.997Z"
   },
   {
    "duration": 35,
    "start_time": "2023-12-17T16:26:30.027Z"
   },
   {
    "duration": 46,
    "start_time": "2023-12-17T16:26:30.064Z"
   },
   {
    "duration": 51,
    "start_time": "2023-12-17T16:26:30.112Z"
   },
   {
    "duration": 46,
    "start_time": "2023-12-17T16:26:30.164Z"
   },
   {
    "duration": 57,
    "start_time": "2023-12-17T16:26:30.213Z"
   },
   {
    "duration": 37,
    "start_time": "2023-12-17T16:26:30.271Z"
   },
   {
    "duration": 186,
    "start_time": "2023-12-17T16:26:30.310Z"
   },
   {
    "duration": 7,
    "start_time": "2023-12-17T16:26:30.498Z"
   },
   {
    "duration": 57,
    "start_time": "2023-12-17T16:26:30.506Z"
   },
   {
    "duration": 210,
    "start_time": "2023-12-17T16:26:30.565Z"
   },
   {
    "duration": 23,
    "start_time": "2023-12-17T16:26:30.777Z"
   },
   {
    "duration": 267,
    "start_time": "2023-12-17T16:26:30.802Z"
   },
   {
    "duration": 494,
    "start_time": "2023-12-17T16:26:31.071Z"
   },
   {
    "duration": 261,
    "start_time": "2023-12-17T16:26:31.566Z"
   },
   {
    "duration": 5,
    "start_time": "2023-12-17T16:26:31.829Z"
   },
   {
    "duration": 232,
    "start_time": "2023-12-17T16:26:31.835Z"
   },
   {
    "duration": 391,
    "start_time": "2023-12-17T16:26:32.069Z"
   },
   {
    "duration": 46,
    "start_time": "2023-12-17T16:26:32.462Z"
   },
   {
    "duration": 209,
    "start_time": "2023-12-17T16:26:32.510Z"
   },
   {
    "duration": 415,
    "start_time": "2023-12-17T16:26:32.721Z"
   },
   {
    "duration": 479,
    "start_time": "2023-12-17T16:26:33.137Z"
   },
   {
    "duration": 445,
    "start_time": "2023-12-17T16:26:33.621Z"
   },
   {
    "duration": 9,
    "start_time": "2023-12-17T16:26:34.069Z"
   },
   {
    "duration": 14,
    "start_time": "2023-12-17T16:26:34.080Z"
   },
   {
    "duration": 14,
    "start_time": "2023-12-17T16:26:57.464Z"
   },
   {
    "duration": 1199,
    "start_time": "2023-12-17T16:29:34.953Z"
   },
   {
    "duration": 83,
    "start_time": "2023-12-17T16:29:36.154Z"
   },
   {
    "duration": 16,
    "start_time": "2023-12-17T16:29:36.238Z"
   },
   {
    "duration": 12,
    "start_time": "2023-12-17T16:29:36.255Z"
   },
   {
    "duration": 17,
    "start_time": "2023-12-17T16:29:36.268Z"
   },
   {
    "duration": 41,
    "start_time": "2023-12-17T16:29:36.287Z"
   },
   {
    "duration": 16,
    "start_time": "2023-12-17T16:29:36.330Z"
   },
   {
    "duration": 41,
    "start_time": "2023-12-17T16:29:36.348Z"
   },
   {
    "duration": 12,
    "start_time": "2023-12-17T16:29:36.391Z"
   },
   {
    "duration": 54,
    "start_time": "2023-12-17T16:29:36.405Z"
   },
   {
    "duration": 8,
    "start_time": "2023-12-17T16:29:36.461Z"
   },
   {
    "duration": 194,
    "start_time": "2023-12-17T16:29:36.470Z"
   },
   {
    "duration": 8,
    "start_time": "2023-12-17T16:29:36.666Z"
   },
   {
    "duration": 23,
    "start_time": "2023-12-17T16:29:36.676Z"
   },
   {
    "duration": 159,
    "start_time": "2023-12-17T16:29:36.701Z"
   },
   {
    "duration": 23,
    "start_time": "2023-12-17T16:29:36.861Z"
   },
   {
    "duration": 240,
    "start_time": "2023-12-17T16:29:36.885Z"
   },
   {
    "duration": 469,
    "start_time": "2023-12-17T16:29:37.127Z"
   },
   {
    "duration": 234,
    "start_time": "2023-12-17T16:29:37.598Z"
   },
   {
    "duration": 5,
    "start_time": "2023-12-17T16:29:37.833Z"
   },
   {
    "duration": 108,
    "start_time": "2023-12-17T16:29:37.839Z"
   },
   {
    "duration": 478,
    "start_time": "2023-12-17T16:29:37.949Z"
   },
   {
    "duration": 48,
    "start_time": "2023-12-17T16:29:38.429Z"
   },
   {
    "duration": 214,
    "start_time": "2023-12-17T16:29:38.479Z"
   },
   {
    "duration": 430,
    "start_time": "2023-12-17T16:29:38.694Z"
   },
   {
    "duration": 476,
    "start_time": "2023-12-17T16:29:39.125Z"
   },
   {
    "duration": 422,
    "start_time": "2023-12-17T16:29:39.602Z"
   },
   {
    "duration": 13,
    "start_time": "2023-12-17T16:29:40.028Z"
   },
   {
    "duration": 12,
    "start_time": "2023-12-17T16:29:40.042Z"
   },
   {
    "duration": 17,
    "start_time": "2023-12-17T16:30:07.314Z"
   },
   {
    "duration": 1220,
    "start_time": "2023-12-17T16:30:42.822Z"
   },
   {
    "duration": 81,
    "start_time": "2023-12-17T16:30:44.044Z"
   },
   {
    "duration": 12,
    "start_time": "2023-12-17T16:30:44.127Z"
   },
   {
    "duration": 19,
    "start_time": "2023-12-17T16:30:44.142Z"
   },
   {
    "duration": 19,
    "start_time": "2023-12-17T16:30:44.163Z"
   },
   {
    "duration": 11,
    "start_time": "2023-12-17T16:30:44.183Z"
   },
   {
    "duration": 27,
    "start_time": "2023-12-17T16:30:44.223Z"
   },
   {
    "duration": 32,
    "start_time": "2023-12-17T16:30:44.252Z"
   },
   {
    "duration": 16,
    "start_time": "2023-12-17T16:30:44.286Z"
   },
   {
    "duration": 33,
    "start_time": "2023-12-17T16:30:44.304Z"
   },
   {
    "duration": 8,
    "start_time": "2023-12-17T16:30:44.338Z"
   },
   {
    "duration": 198,
    "start_time": "2023-12-17T16:30:44.348Z"
   },
   {
    "duration": 8,
    "start_time": "2023-12-17T16:30:44.548Z"
   },
   {
    "duration": 15,
    "start_time": "2023-12-17T16:30:44.558Z"
   },
   {
    "duration": 169,
    "start_time": "2023-12-17T16:30:44.575Z"
   },
   {
    "duration": 24,
    "start_time": "2023-12-17T16:30:44.745Z"
   },
   {
    "duration": 307,
    "start_time": "2023-12-17T16:30:44.770Z"
   },
   {
    "duration": 532,
    "start_time": "2023-12-17T16:30:45.079Z"
   },
   {
    "duration": 231,
    "start_time": "2023-12-17T16:30:45.612Z"
   },
   {
    "duration": 5,
    "start_time": "2023-12-17T16:30:45.844Z"
   },
   {
    "duration": 117,
    "start_time": "2023-12-17T16:30:45.850Z"
   },
   {
    "duration": 510,
    "start_time": "2023-12-17T16:30:45.969Z"
   },
   {
    "duration": 75,
    "start_time": "2023-12-17T16:30:46.481Z"
   },
   {
    "duration": 227,
    "start_time": "2023-12-17T16:30:46.557Z"
   },
   {
    "duration": 437,
    "start_time": "2023-12-17T16:30:46.785Z"
   },
   {
    "duration": 484,
    "start_time": "2023-12-17T16:30:47.224Z"
   },
   {
    "duration": 441,
    "start_time": "2023-12-17T16:30:47.710Z"
   },
   {
    "duration": 10,
    "start_time": "2023-12-17T16:30:48.154Z"
   },
   {
    "duration": 20,
    "start_time": "2023-12-17T16:30:48.166Z"
   },
   {
    "duration": 219,
    "start_time": "2023-12-17T16:36:32.857Z"
   },
   {
    "duration": 17,
    "start_time": "2023-12-17T16:38:17.817Z"
   },
   {
    "duration": 894,
    "start_time": "2023-12-17T16:38:51.353Z"
   },
   {
    "duration": 870,
    "start_time": "2023-12-17T16:39:37.050Z"
   },
   {
    "duration": 398,
    "start_time": "2023-12-17T16:40:39.758Z"
   },
   {
    "duration": 811,
    "start_time": "2023-12-17T16:44:27.569Z"
   },
   {
    "duration": 1353,
    "start_time": "2023-12-17T16:45:48.958Z"
   },
   {
    "duration": 1194,
    "start_time": "2023-12-17T16:46:15.277Z"
   },
   {
    "duration": 12,
    "start_time": "2023-12-17T16:47:27.386Z"
   },
   {
    "duration": 342,
    "start_time": "2023-12-17T16:52:14.776Z"
   },
   {
    "duration": 421,
    "start_time": "2023-12-17T17:05:17.826Z"
   },
   {
    "duration": 456,
    "start_time": "2023-12-17T17:08:34.730Z"
   },
   {
    "duration": 400,
    "start_time": "2023-12-17T17:10:14.004Z"
   },
   {
    "duration": 9,
    "start_time": "2023-12-17T17:37:58.139Z"
   },
   {
    "duration": 8,
    "start_time": "2023-12-17T17:38:24.593Z"
   },
   {
    "duration": 1180,
    "start_time": "2023-12-17T23:25:30.690Z"
   },
   {
    "duration": 85,
    "start_time": "2023-12-17T23:25:31.872Z"
   },
   {
    "duration": 14,
    "start_time": "2023-12-17T23:25:31.959Z"
   },
   {
    "duration": 10,
    "start_time": "2023-12-17T23:25:31.974Z"
   },
   {
    "duration": 17,
    "start_time": "2023-12-17T23:25:31.986Z"
   },
   {
    "duration": 39,
    "start_time": "2023-12-17T23:25:32.005Z"
   },
   {
    "duration": 16,
    "start_time": "2023-12-17T23:25:32.046Z"
   },
   {
    "duration": 21,
    "start_time": "2023-12-17T23:25:32.064Z"
   },
   {
    "duration": 15,
    "start_time": "2023-12-17T23:25:32.087Z"
   },
   {
    "duration": 45,
    "start_time": "2023-12-17T23:25:32.103Z"
   },
   {
    "duration": 8,
    "start_time": "2023-12-17T23:25:32.149Z"
   },
   {
    "duration": 193,
    "start_time": "2023-12-17T23:25:32.159Z"
   },
   {
    "duration": 8,
    "start_time": "2023-12-17T23:25:32.354Z"
   },
   {
    "duration": 24,
    "start_time": "2023-12-17T23:25:32.364Z"
   },
   {
    "duration": 165,
    "start_time": "2023-12-17T23:25:32.390Z"
   },
   {
    "duration": 25,
    "start_time": "2023-12-17T23:25:32.557Z"
   },
   {
    "duration": 259,
    "start_time": "2023-12-17T23:25:32.584Z"
   },
   {
    "duration": 475,
    "start_time": "2023-12-17T23:25:32.845Z"
   },
   {
    "duration": 243,
    "start_time": "2023-12-17T23:25:33.321Z"
   },
   {
    "duration": 5,
    "start_time": "2023-12-17T23:25:33.566Z"
   },
   {
    "duration": 120,
    "start_time": "2023-12-17T23:25:33.573Z"
   },
   {
    "duration": 1243,
    "start_time": "2023-12-17T23:25:33.695Z"
   },
   {
    "duration": 47,
    "start_time": "2023-12-17T23:25:34.943Z"
   },
   {
    "duration": 213,
    "start_time": "2023-12-17T23:25:34.991Z"
   },
   {
    "duration": 446,
    "start_time": "2023-12-17T23:25:35.206Z"
   },
   {
    "duration": 559,
    "start_time": "2023-12-17T23:25:35.653Z"
   },
   {
    "duration": 428,
    "start_time": "2023-12-17T23:25:36.214Z"
   },
   {
    "duration": 7,
    "start_time": "2023-12-17T23:25:36.644Z"
   },
   {
    "duration": 7,
    "start_time": "2023-12-17T23:25:36.653Z"
   }
  ],
  "kernelspec": {
   "display_name": "Python 3 (ipykernel)",
   "language": "python",
   "name": "python3"
  },
  "language_info": {
   "codemirror_mode": {
    "name": "ipython",
    "version": 3
   },
   "file_extension": ".py",
   "mimetype": "text/x-python",
   "name": "python",
   "nbconvert_exporter": "python",
   "pygments_lexer": "ipython3",
   "version": "3.9.12"
  },
  "toc": {
   "base_numbering": 1,
   "nav_menu": {},
   "number_sections": true,
   "sideBar": true,
   "skip_h1_title": true,
   "title_cell": "Table of Contents",
   "title_sidebar": "Contents",
   "toc_cell": false,
   "toc_position": {},
   "toc_section_display": true,
   "toc_window_display": false
  }
 },
 "nbformat": 4,
 "nbformat_minor": 2
}
